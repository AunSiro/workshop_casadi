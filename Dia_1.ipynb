{
 "cells": [
  {
   "cell_type": "code",
   "execution_count": 1,
   "metadata": {},
   "outputs": [],
   "source": [
    "import casadi as cas\n",
    "import numpy as np\n",
    "import matplotlib.pyplot as plt"
   ]
  },
  {
   "cell_type": "markdown",
   "metadata": {},
   "source": [
    "## Ejercicio 1 parte 1"
   ]
  },
  {
   "cell_type": "code",
   "execution_count": 2,
   "metadata": {},
   "outputs": [],
   "source": [
    "def g(w):\n",
    "    x = w[0]\n",
    "    y = w[1]\n",
    "    g1 = cas.tanh((x+2)*y**2/25 - 0.5)\n",
    "    g2 = cas.sin(x) - 0.5*y + 1\n",
    "    return cas.vertcat(g1, g2)"
   ]
  },
  {
   "cell_type": "code",
   "execution_count": 3,
   "metadata": {},
   "outputs": [
    {
     "data": {
      "text/plain": [
       "DM([-0.298617, -0.717356])"
      ]
     },
     "execution_count": 3,
     "metadata": {},
     "output_type": "execute_result"
    }
   ],
   "source": [
    "g(cas.vertcat(-0.8, 2))"
   ]
  },
  {
   "cell_type": "code",
   "execution_count": 4,
   "metadata": {},
   "outputs": [
    {
     "data": {
      "text/plain": [
       "DM([-0.298617, -0.717356])"
      ]
     },
     "execution_count": 4,
     "metadata": {},
     "output_type": "execute_result"
    }
   ],
   "source": [
    "g(np.array([-0.8, 2]))"
   ]
  },
  {
   "cell_type": "code",
   "execution_count": 5,
   "metadata": {},
   "outputs": [],
   "source": [
    "def forw_jac_col(g, x, col, eps = 1e-8):\n",
    "    vec_l = len(x)\n",
    "    fw_seed = np.zeros_like(x)\n",
    "    fw_seed[col] = 1\n",
    "    return(g(x + eps*fw_seed)- g(x))/eps"
   ]
  },
  {
   "cell_type": "code",
   "execution_count": 6,
   "metadata": {},
   "outputs": [],
   "source": [
    "x_0 = np.array([-0.8, 2])"
   ]
  },
  {
   "cell_type": "code",
   "execution_count": 7,
   "metadata": {},
   "outputs": [
    {
     "data": {
      "text/plain": [
       "DM([0.145733, 0.696707])"
      ]
     },
     "execution_count": 7,
     "metadata": {},
     "output_type": "execute_result"
    }
   ],
   "source": [
    "forw_jac_col(g, x_0, 0)"
   ]
  },
  {
   "cell_type": "code",
   "execution_count": 8,
   "metadata": {},
   "outputs": [],
   "source": [
    "# Mejorar con *cols\n",
    "def jacobian(g, x):\n",
    "    jac = forw_jac_col(g, x, 0)\n",
    "    for col in range(1,len(x)):\n",
    "        jac = cas.horzcat(jac, forw_jac_col(g, x, col))\n",
    "    return jac"
   ]
  },
  {
   "cell_type": "code",
   "execution_count": 9,
   "metadata": {},
   "outputs": [
    {
     "data": {
      "text/plain": [
       "DM(\n",
       "[[0.145733, 0.174879], \n",
       " [0.696707, -0.5]])"
      ]
     },
     "execution_count": 9,
     "metadata": {},
     "output_type": "execute_result"
    }
   ],
   "source": [
    "jacobian(g, x_0)"
   ]
  },
  {
   "cell_type": "code",
   "execution_count": 10,
   "metadata": {},
   "outputs": [],
   "source": [
    "def delta_x(g, x):\n",
    "    jac = jacobian(g, x)\n",
    "    return cas.solve(-jac, g(x))"
   ]
  },
  {
   "cell_type": "code",
   "execution_count": 11,
   "metadata": {},
   "outputs": [],
   "source": [
    "def step (g, x):\n",
    "    dx = delta_x(g,x)\n",
    "    return np.array(x + dx)"
   ]
  },
  {
   "cell_type": "code",
   "execution_count": 12,
   "metadata": {},
   "outputs": [
    {
     "name": "stdout",
     "output_type": "stream",
     "text": [
      "[[0.61114968]\n",
      " [2.53160267]]\n",
      "[[0.16714937]\n",
      " [2.42035621]]\n",
      "[[0.19440912]\n",
      " [2.38650392]]\n",
      "[[0.19453578]\n",
      " [2.38662219]]\n",
      "[[0.19453578]\n",
      " [2.38662219]]\n"
     ]
    }
   ],
   "source": [
    "x = x_0\n",
    "for i in range(5):\n",
    "    x = step(g, x)\n",
    "    print(x)"
   ]
  },
  {
   "cell_type": "markdown",
   "metadata": {},
   "source": [
    "## Ejercicio 2 partes 1 a 3"
   ]
  },
  {
   "cell_type": "code",
   "execution_count": 13,
   "metadata": {},
   "outputs": [],
   "source": [
    "x = cas.MX.sym('x')\n",
    "y = cas.MX.sym('y')\n",
    "p = cas.MX.sym('p',2)\n",
    "A = cas.MX.sym('A', 4, 5)\n",
    "f = cas.Function('f', [x,y], [cas.sin(x) * y])\n",
    "g = cas.Function('g', [x], [cas.sqrt(x), x**2])\n",
    "h = cas.Function('h', [x], [cas.sin(x)*y])\n",
    "F = lambda x,y: cas.sin(x) * y"
   ]
  },
  {
   "cell_type": "code",
   "execution_count": 14,
   "metadata": {},
   "outputs": [
    {
     "data": {
      "text/plain": [
       "Function(m:(i0)->(o0) MXFunction)"
      ]
     },
     "execution_count": 14,
     "metadata": {},
     "output_type": "execute_result"
    }
   ],
   "source": [
    "cas.Function('m', [x], [cas.sin(x)])"
   ]
  },
  {
   "cell_type": "code",
   "execution_count": 15,
   "metadata": {},
   "outputs": [
    {
     "data": {
      "text/plain": [
       "MX(vertcat(x, y))"
      ]
     },
     "execution_count": 15,
     "metadata": {},
     "output_type": "execute_result"
    }
   ],
   "source": [
    "cas.vertcat(x,y)"
   ]
  },
  {
   "cell_type": "code",
   "execution_count": 16,
   "metadata": {},
   "outputs": [
    {
     "data": {
      "text/plain": [
       "MX(sq((sin(x)*y)))"
      ]
     },
     "execution_count": 16,
     "metadata": {},
     "output_type": "execute_result"
    }
   ],
   "source": [
    "h(x)**2"
   ]
  },
  {
   "cell_type": "code",
   "execution_count": 17,
   "metadata": {
    "scrolled": true
   },
   "outputs": [
    {
     "data": {
      "text/plain": [
       "Function(f2:(i0)->(o0) MXFunction)"
      ]
     },
     "execution_count": 17,
     "metadata": {},
     "output_type": "execute_result"
    }
   ],
   "source": [
    "cas.Function('f2', [x], [h(x)**2])"
   ]
  },
  {
   "cell_type": "code",
   "execution_count": 18,
   "metadata": {
    "scrolled": false
   },
   "outputs": [
    {
     "data": {
      "text/plain": [
       "MX((-0.958924*y))"
      ]
     },
     "execution_count": 18,
     "metadata": {},
     "output_type": "execute_result"
    }
   ],
   "source": [
    "h(cas.MX(5))"
   ]
  },
  {
   "cell_type": "code",
   "execution_count": 19,
   "metadata": {
    "scrolled": true
   },
   "outputs": [
    {
     "data": {
      "text/plain": [
       "Function(m:(i0,i1)->(o0) MXFunction)"
      ]
     },
     "execution_count": 19,
     "metadata": {},
     "output_type": "execute_result"
    }
   ],
   "source": [
    "cas.Function('m', [x,y], [x])"
   ]
  },
  {
   "cell_type": "code",
   "execution_count": 20,
   "metadata": {
    "scrolled": true
   },
   "outputs": [],
   "source": [
    "f2 = cas.Function('f2', [x,y], [cas.sin(x)+y], ['x','y'], ['z'])"
   ]
  },
  {
   "cell_type": "code",
   "execution_count": 21,
   "metadata": {},
   "outputs": [
    {
     "data": {
      "text/plain": [
       "{'z': DM(0.14112)}"
      ]
     },
     "execution_count": 21,
     "metadata": {},
     "output_type": "execute_result"
    }
   ],
   "source": [
    "f2(x = 3)"
   ]
  },
  {
   "cell_type": "code",
   "execution_count": 22,
   "metadata": {},
   "outputs": [
    {
     "data": {
      "text/plain": [
       "{'z': DM(0)}"
      ]
     },
     "execution_count": 22,
     "metadata": {},
     "output_type": "execute_result"
    }
   ],
   "source": [
    "f2()"
   ]
  },
  {
   "cell_type": "code",
   "execution_count": 23,
   "metadata": {},
   "outputs": [],
   "source": [
    "g2 = cas.Function('g2', [x], [cas.sqrt(x), x**2], ['x'], ['p0', 'p1'])"
   ]
  },
  {
   "cell_type": "code",
   "execution_count": 24,
   "metadata": {},
   "outputs": [
    {
     "data": {
      "text/plain": [
       "{'p0': DM(1.73205), 'p1': DM(9)}"
      ]
     },
     "execution_count": 24,
     "metadata": {},
     "output_type": "execute_result"
    }
   ],
   "source": [
    "g2(x=3)"
   ]
  },
  {
   "cell_type": "code",
   "execution_count": 25,
   "metadata": {},
   "outputs": [
    {
     "data": {
      "text/plain": [
       "(DM(0), DM(0))"
      ]
     },
     "execution_count": 25,
     "metadata": {},
     "output_type": "execute_result"
    }
   ],
   "source": [
    "g2([])"
   ]
  },
  {
   "cell_type": "markdown",
   "metadata": {},
   "source": [
    "## Ejercicio 1 parte 2"
   ]
  },
  {
   "cell_type": "code",
   "execution_count": 26,
   "metadata": {},
   "outputs": [],
   "source": [
    "def g(w):\n",
    "    x = w[0]\n",
    "    y = w[1]\n",
    "    g1 = cas.tanh((x+2)*y**2/25 - 0.5)\n",
    "    g2 = cas.sin(x) - 0.5*y + 1\n",
    "    return cas.vertcat(g1, g2)"
   ]
  },
  {
   "cell_type": "code",
   "execution_count": 27,
   "metadata": {},
   "outputs": [],
   "source": [
    "X = cas.MX.sym('X', 2)"
   ]
  },
  {
   "cell_type": "code",
   "execution_count": 28,
   "metadata": {},
   "outputs": [
    {
     "name": "stdout",
     "output_type": "stream",
     "text": [
      "@1=X[0], @2=X[1], vertcat(tanh(((((2+@1)*sq(@2))/25)-0.5)), (1+(sin(@1)-(0.5*@2))))\n"
     ]
    }
   ],
   "source": [
    "print(g(X))"
   ]
  },
  {
   "cell_type": "code",
   "execution_count": 29,
   "metadata": {},
   "outputs": [
    {
     "data": {
      "text/plain": [
       "MX(@1=X[0], @2=(2+@1), @3=X[1], @4=sq(@3), @5=(1-sq(tanh((((@2*@4)/25)-0.5)))), @6=0.04, ((zeros(2x2)[:4:2] = vertcat((@5*(@6*@4)), cos(@1)))[1:5:2] = vertcat((@5*(@6*(@2*(2.*@3)))), -0.5))')"
      ]
     },
     "execution_count": 29,
     "metadata": {},
     "output_type": "execute_result"
    }
   ],
   "source": [
    "cas.jacobian(g(X),X)"
   ]
  },
  {
   "cell_type": "code",
   "execution_count": 30,
   "metadata": {},
   "outputs": [],
   "source": [
    "Jf = cas.Function('Jf', [X], [cas.jacobian(g(X),X)])"
   ]
  },
  {
   "cell_type": "code",
   "execution_count": 31,
   "metadata": {},
   "outputs": [
    {
     "data": {
      "text/plain": [
       "Function(Jf:(i0[2])->(o0[2x2]) MXFunction)"
      ]
     },
     "execution_count": 31,
     "metadata": {},
     "output_type": "execute_result"
    }
   ],
   "source": [
    "Jf"
   ]
  },
  {
   "cell_type": "code",
   "execution_count": 32,
   "metadata": {},
   "outputs": [
    {
     "data": {
      "text/plain": [
       "array([-0.8,  2. ])"
      ]
     },
     "execution_count": 32,
     "metadata": {},
     "output_type": "execute_result"
    }
   ],
   "source": [
    "x_0"
   ]
  },
  {
   "cell_type": "code",
   "execution_count": 33,
   "metadata": {
    "scrolled": true
   },
   "outputs": [
    {
     "data": {
      "text/plain": [
       "DM(\n",
       "[[0.145733, 0.174879], \n",
       " [0.696707, -0.5]])"
      ]
     },
     "execution_count": 33,
     "metadata": {},
     "output_type": "execute_result"
    }
   ],
   "source": [
    "Jf(x_0)"
   ]
  },
  {
   "cell_type": "code",
   "execution_count": 34,
   "metadata": {},
   "outputs": [],
   "source": [
    "def delta_x(x):\n",
    "    jac = Jf(x)\n",
    "    return cas.solve(-jac, g(x))"
   ]
  },
  {
   "cell_type": "code",
   "execution_count": 35,
   "metadata": {},
   "outputs": [],
   "source": [
    "def step (x):\n",
    "    dx = delta_x(x)\n",
    "    return np.array(x + dx)"
   ]
  },
  {
   "cell_type": "code",
   "execution_count": 36,
   "metadata": {},
   "outputs": [
    {
     "name": "stdout",
     "output_type": "stream",
     "text": [
      "[[0.61114966]\n",
      " [2.5316027 ]]\n",
      "[[0.16714937]\n",
      " [2.42035621]]\n",
      "[[0.19440912]\n",
      " [2.38650392]]\n",
      "[[0.19453578]\n",
      " [2.38662219]]\n",
      "[[0.19453578]\n",
      " [2.38662219]]\n"
     ]
    }
   ],
   "source": [
    "x = x_0\n",
    "for i in range(5):\n",
    "    x = step(x)\n",
    "    print(x)"
   ]
  },
  {
   "cell_type": "markdown",
   "metadata": {},
   "source": [
    "## Ejercicio 3"
   ]
  },
  {
   "cell_type": "code",
   "execution_count": 41,
   "metadata": {},
   "outputs": [],
   "source": [
    "x = cas.MX.sym('x',2)\n",
    "lam = cas.MX.sym('lam')\n",
    "nu = cas.MX.sym('nu')"
   ]
  },
  {
   "cell_type": "code",
   "execution_count": 39,
   "metadata": {},
   "outputs": [],
   "source": [
    "f = cas.Function('f', [x], [x[0]**2 + cas.tanh(x[1])**2])\n",
    "g = cas.Function('g', [x], [cas.cos(x[0] + x[1]) + 0.5])\n",
    "h = cas.Function('h', [x], [cas.sin(x[0]) + 0.5])"
   ]
  },
  {
   "cell_type": "code",
   "execution_count": 42,
   "metadata": {},
   "outputs": [],
   "source": [
    "L = cas.Function('L', [x, lam, nu], [f(x) + lam * g(x) + nu * h(x)])"
   ]
  },
  {
   "cell_type": "code",
   "execution_count": 44,
   "metadata": {},
   "outputs": [
    {
     "data": {
      "text/plain": [
       "DM(0.875613)"
      ]
     },
     "execution_count": 44,
     "metadata": {},
     "output_type": "execute_result"
    }
   ],
   "source": [
    "L([-0.5, -1.8], 2, 3)"
   ]
  },
  {
   "cell_type": "code",
   "execution_count": 104,
   "metadata": {},
   "outputs": [],
   "source": [
    "params = cas.Function('params', [x, lam, nu], [\n",
    "    f(x), g(x), h(x),\n",
    "    cas.gradient(f(x), x), cas.jacobian(g(x),x), cas.jacobian(h(x),x),\n",
    "    cas.hessian(L(x, lam, nu),x)[0],\n",
    "])"
   ]
  },
  {
   "cell_type": "code",
   "execution_count": 54,
   "metadata": {},
   "outputs": [
    {
     "data": {
      "text/plain": [
       "(DM(1.14644),\n",
       " DM(-0.166276),\n",
       " DM(0.0205745),\n",
       " DM([-1, -0.196099]),\n",
       " DM([0.745705, 0.745705]),\n",
       " DM([0.877583, 0]),\n",
       " DM(\n",
       " [[2, 0], \n",
       "  [0, -0.349887]]))"
      ]
     },
     "execution_count": 54,
     "metadata": {},
     "output_type": "execute_result"
    }
   ],
   "source": [
    "params([-0.5, -1.8], 0, 0)"
   ]
  },
  {
   "cell_type": "code",
   "execution_count": 118,
   "metadata": {},
   "outputs": [],
   "source": [
    "hga = cas.Function(\n",
    "    'HGAmatrices',\n",
    "    [x, lam, nu,],\n",
    "    [\n",
    "        cas.hessian(L(x, lam, nu),x)[0],\n",
    "        cas.gradient(f(x), x),\n",
    "        cas.vertcat(cas.jacobian(g(x),x), cas.jacobian(h(x),x)),\n",
    "        cas.horzcat(-g(x), -cas.inf),\n",
    "        cas.horzcat(-g(x), - h(x))        \n",
    "    ],\n",
    "    ['x', 'lam', 'nu'],\n",
    "    ['h', 'g', 'a', 'lba', 'uba'],\n",
    ")"
   ]
  },
  {
   "cell_type": "code",
   "execution_count": 119,
   "metadata": {},
   "outputs": [],
   "source": [
    "zzz = hga(x = [-0.5, -1.8], lam = 0, nu = 0)"
   ]
  },
  {
   "cell_type": "code",
   "execution_count": 127,
   "metadata": {},
   "outputs": [
    {
     "data": {
      "text/plain": [
       "{'a': DM(\n",
       " [[0.745705, 0.745705], \n",
       "  [0.877583, 00]]), 'g': DM([-1, -0.196099]), 'h': DM(\n",
       " [[2, 0], \n",
       "  [0, -0.349887]]), 'lba': DM([[0.166276, -inf]]), 'uba': DM([[0.166276, -0.0205745]])}"
      ]
     },
     "execution_count": 127,
     "metadata": {},
     "output_type": "execute_result"
    }
   ],
   "source": [
    "zzz"
   ]
  },
  {
   "cell_type": "code",
   "execution_count": 121,
   "metadata": {},
   "outputs": [
    {
     "name": "stdout",
     "output_type": "stream",
     "text": [
      "**\n",
      "**\n"
     ]
    }
   ],
   "source": [
    "zzz['h'].sparsity().spy()"
   ]
  },
  {
   "cell_type": "code",
   "execution_count": 122,
   "metadata": {},
   "outputs": [
    {
     "name": "stdout",
     "output_type": "stream",
     "text": [
      "**\n",
      "*.\n"
     ]
    }
   ],
   "source": [
    "zzz['a'].sparsity().spy()"
   ]
  },
  {
   "cell_type": "code",
   "execution_count": 128,
   "metadata": {},
   "outputs": [],
   "source": [
    "qp_struct = {\n",
    "    'a': zzz['a'].sparsity(),\n",
    "    'h': zzz['h'].sparsity()\n",
    "}"
   ]
  },
  {
   "cell_type": "code",
   "execution_count": 143,
   "metadata": {},
   "outputs": [
    {
     "name": "stdout",
     "output_type": "stream",
     "text": [
      "-------------------------------------------\n",
      "This is casadi::QRQP\n",
      "Number of variables:                               2\n",
      "Number of constraints:                             2\n",
      "Number of nonzeros in H:                           4\n",
      "Number of nonzeros in A:                           3\n",
      "Number of nonzeros in KKT:                        12\n",
      "Number of nonzeros in QR(V):                      10\n",
      "Number of nonzeros in QR(R):                      10\n"
     ]
    }
   ],
   "source": [
    "opts = {\"print_iter\": False}\n",
    "solver = cas.conic('solver', 'qrqp', qp_struct, opts)"
   ]
  },
  {
   "cell_type": "code",
   "execution_count": 144,
   "metadata": {
    "scrolled": true
   },
   "outputs": [],
   "source": [
    "res = solver(**zzz)"
   ]
  },
  {
   "cell_type": "code",
   "execution_count": 137,
   "metadata": {
    "scrolled": true
   },
   "outputs": [
    {
     "data": {
      "text/plain": [
       "{'cost': DM(-0.0349525),\n",
       " 'lam_a': DM([0.378594, 0.871222]),\n",
       " 'lam_x': DM([0, 0]),\n",
       " 'x': DM([-0.0234445, 0.246423])}"
      ]
     },
     "execution_count": 137,
     "metadata": {},
     "output_type": "execute_result"
    }
   ],
   "source": [
    "res"
   ]
  },
  {
   "cell_type": "code",
   "execution_count": 148,
   "metadata": {},
   "outputs": [
    {
     "name": "stdout",
     "output_type": "stream",
     "text": [
      "[-0.523444, -1.55358]\n",
      "[-0.523599, -1.57071]\n",
      "[-0.523599, -1.5708]\n",
      "[-0.523599, -1.5708]\n",
      "[-0.523599, -1.5708]\n"
     ]
    }
   ],
   "source": [
    "x_p = cas.DM([-0.5, -1.8])\n",
    "lam_p = 0\n",
    "nu_p = 0\n",
    "for ii in range(5):\n",
    "    zzz = hga(x = x_p, lam = lam_p, nu = nu_p)\n",
    "    res = solver(**zzz)\n",
    "    x_p = x_p + res['x']\n",
    "    print(x_p)\n",
    "    lam_p = res['lam_a'][0]\n",
    "    nu_p = res['lam_a'][1]"
   ]
  },
  {
   "cell_type": "markdown",
   "metadata": {},
   "source": [
    "## Ejercicio 4: Golf"
   ]
  },
  {
   "cell_type": "code",
   "execution_count": 149,
   "metadata": {},
   "outputs": [],
   "source": [
    "m = 0.04593\n",
    "g = 9.81\n",
    "c = 17.5e-5"
   ]
  },
  {
   "cell_type": "code",
   "execution_count": 150,
   "metadata": {},
   "outputs": [],
   "source": [
    "p = cas.MX.sym('p', 2)\n",
    "v = cas.MX.sym('v', 2)"
   ]
  },
  {
   "cell_type": "code",
   "execution_count": 154,
   "metadata": {},
   "outputs": [],
   "source": [
    "rhs = cas.vertcat(\n",
    "    v[0],\n",
    "    v[1],\n",
    "    -c*cas.norm_2(v)*v[0]/m,\n",
    "    -g-c*cas.norm_2(v)*v[1]/m\n",
    ")"
   ]
  },
  {
   "cell_type": "code",
   "execution_count": 155,
   "metadata": {},
   "outputs": [],
   "source": [
    "f = cas.Function('rhs', [cas.vertcat(p,v)], [rhs])"
   ]
  },
  {
   "cell_type": "code",
   "execution_count": 156,
   "metadata": {},
   "outputs": [
    {
     "data": {
      "text/plain": [
       "DM([35, 30, -6.14737, -15.0792])"
      ]
     },
     "execution_count": 156,
     "metadata": {},
     "output_type": "execute_result"
    }
   ],
   "source": [
    "f([0.0, 0.0, 35.0, 30.0])"
   ]
  },
  {
   "cell_type": "code",
   "execution_count": 157,
   "metadata": {},
   "outputs": [],
   "source": [
    "ode = {\n",
    "    'x':cas.vertcat(p,v),\n",
    "    'ode': rhs\n",
    "}\n",
    "options = {'tf':1}\n",
    "intg = cas.integrator('intg', 'cvodes', ode, options)"
   ]
  },
  {
   "cell_type": "code",
   "execution_count": 158,
   "metadata": {},
   "outputs": [
    {
     "data": {
      "text/plain": [
       "Function(intg:(x0[4],p[0],z0[0],rx0[0],rp[0],rz0[0])->(xf[4],qf[0],zf[0],rxf[0],rqf[0],rzf[0]) CvodesInterface)"
      ]
     },
     "execution_count": 158,
     "metadata": {},
     "output_type": "execute_result"
    }
   ],
   "source": [
    "intg"
   ]
  },
  {
   "cell_type": "code",
   "execution_count": 159,
   "metadata": {},
   "outputs": [
    {
     "data": {
      "text/plain": [
       "{'qf': DM([]),\n",
       " 'rqf': DM([]),\n",
       " 'rxf': DM([]),\n",
       " 'rzf': DM([]),\n",
       " 'xf': DM([32.3549, 23.0661, 30.075, 16.6423]),\n",
       " 'zf': DM([])}"
      ]
     },
     "execution_count": 159,
     "metadata": {},
     "output_type": "execute_result"
    }
   ],
   "source": [
    "intg(x0 = [0.0, 0.0, 35.0, 30.0])"
   ]
  },
  {
   "cell_type": "code",
   "execution_count": 170,
   "metadata": {},
   "outputs": [
    {
     "data": {
      "text/plain": [
       "MX(intg(X0, 0x1, 0x1, 0x1, 0x1, 0x1){0})"
      ]
     },
     "execution_count": 170,
     "metadata": {},
     "output_type": "execute_result"
    }
   ],
   "source": [
    "intg(x0 = X0)['xf']"
   ]
  },
  {
   "cell_type": "code",
   "execution_count": 171,
   "metadata": {
    "scrolled": false
   },
   "outputs": [],
   "source": [
    "X0 = cas.MX.sym('X0', 4)\n",
    "fly1sec = cas.Function('fly1sec', [X0], [intg(x0 = X0)['xf']])"
   ]
  },
  {
   "cell_type": "code",
   "execution_count": 174,
   "metadata": {},
   "outputs": [
    {
     "data": {
      "text/plain": [
       "DM([32.6405, 13.9607, 30.5608, 8.26437])"
      ]
     },
     "execution_count": 174,
     "metadata": {},
     "output_type": "execute_result"
    }
   ],
   "source": [
    "fly1sec([0.0, 0.0, 35.0, 20.0])"
   ]
  },
  {
   "cell_type": "code",
   "execution_count": 175,
   "metadata": {},
   "outputs": [],
   "source": [
    "T = cas.MX.sym('T')"
   ]
  },
  {
   "cell_type": "code",
   "execution_count": 181,
   "metadata": {},
   "outputs": [
    {
     "data": {
      "text/plain": [
       "MX(vertcat(v[0], v[1], (((-0.000175*||v||_F)*v[0])/0.04593), (-9.81-(((0.000175*||v||_F)*v[1])/0.04593))))"
      ]
     },
     "execution_count": 181,
     "metadata": {},
     "output_type": "execute_result"
    }
   ],
   "source": [
    "rhs"
   ]
  },
  {
   "cell_type": "code",
   "execution_count": 182,
   "metadata": {},
   "outputs": [],
   "source": [
    "rhs = cas.vertcat(\n",
    "    v[0],\n",
    "    v[1],\n",
    "    -c*cas.norm_2(v)*v[0]/m,\n",
    "    -g-c*cas.norm_2(v)*v[1]/m\n",
    ")\n",
    "ode_T = {\n",
    "    'x':cas.vertcat(p,v),\n",
    "    'ode': T*rhs,\n",
    "    'p':T\n",
    "}\n",
    "options = {'tf':1}\n",
    "intg = cas.integrator('intg', 'cvodes', ode_T, options)"
   ]
  },
  {
   "cell_type": "code",
   "execution_count": 183,
   "metadata": {},
   "outputs": [],
   "source": [
    "fly = cas.Function('fly', [X0, T], [intg(x0 = X0, p = T)['xf']])"
   ]
  },
  {
   "cell_type": "code",
   "execution_count": 190,
   "metadata": {},
   "outputs": [
    {
     "data": {
      "text/plain": [
       "DM([130.338, 8.27205, 19.8961, -21.2868])"
      ]
     },
     "execution_count": 190,
     "metadata": {},
     "output_type": "execute_result"
    }
   ],
   "source": [
    "fly([0.0, 0.0, 35.0, 30.0],5)"
   ]
  },
  {
   "cell_type": "code",
   "execution_count": 185,
   "metadata": {},
   "outputs": [],
   "source": [
    "theta = cas.MX.sym('theta')\n",
    "v = cas.MX.sym('v')"
   ]
  },
  {
   "cell_type": "code",
   "execution_count": 189,
   "metadata": {},
   "outputs": [
    {
     "data": {
      "text/plain": [
       "Function(fly:(i0[4],i1)->(o0[4]) MXFunction)"
      ]
     },
     "execution_count": 189,
     "metadata": {},
     "output_type": "execute_result"
    }
   ],
   "source": [
    "fly"
   ]
  },
  {
   "cell_type": "code",
   "execution_count": 194,
   "metadata": {},
   "outputs": [],
   "source": [
    "theta_rad = theta/180*cas.pi"
   ]
  },
  {
   "cell_type": "code",
   "execution_count": 195,
   "metadata": {},
   "outputs": [],
   "source": [
    "shoot = cas.Function('shoot',\n",
    "                     [v, theta, T],\n",
    "                     [fly(cas.vertcat(0.0, 0.0, v*cas.cos(theta_rad), v*cas.sin(theta_rad)),T)]\n",
    "                    )"
   ]
  },
  {
   "cell_type": "code",
   "execution_count": 196,
   "metadata": {},
   "outputs": [
    {
     "data": {
      "text/plain": [
       "DM([155.243, -11.0833, 22.6012, -23.8282])"
      ]
     },
     "execution_count": 196,
     "metadata": {},
     "output_type": "execute_result"
    }
   ],
   "source": [
    "shoot(50,30,5)"
   ]
  },
  {
   "cell_type": "code",
   "execution_count": 198,
   "metadata": {},
   "outputs": [],
   "source": [
    "x = shoot(50,30,T)\n",
    "height = x[1]\n",
    " \n",
    "rf = cas.rootfinder('rf','newton',{'x':T,'g':height})\n",
    "res = rf(x0=5)"
   ]
  },
  {
   "cell_type": "code",
   "execution_count": 199,
   "metadata": {},
   "outputs": [
    {
     "data": {
      "text/plain": [
       "{'x': DM(4.49773)}"
      ]
     },
     "execution_count": 199,
     "metadata": {},
     "output_type": "execute_result"
    }
   ],
   "source": [
    "res"
   ]
  },
  {
   "cell_type": "code",
   "execution_count": 205,
   "metadata": {},
   "outputs": [
    {
     "name": "stdout",
     "output_type": "stream",
     "text": [
      "152.824\n"
     ]
    }
   ],
   "source": [
    "x = shoot(v,theta,T)\n",
    "height = x[1]\n",
    " \n",
    "rf = cas.rootfinder('rf','newton',{'x':T,'p':cas.vertcat(v,theta),'g':height})\n",
    "res = rf(x0=5,p=cas.vertcat(v,theta))\n",
    " \n",
    "T_landing = res[\"x\"]\n",
    "xf = shoot(v,theta,T_landing)\n",
    " \n",
    "shoot_distance = cas.Function('shoot_distance',[v,theta],[xf[0]])\n",
    " \n",
    "print(shoot_distance(50,40))"
   ]
  },
  {
   "cell_type": "code",
   "execution_count": null,
   "metadata": {},
   "outputs": [],
   "source": []
  },
  {
   "cell_type": "code",
   "execution_count": null,
   "metadata": {},
   "outputs": [],
   "source": []
  },
  {
   "cell_type": "code",
   "execution_count": null,
   "metadata": {},
   "outputs": [],
   "source": []
  },
  {
   "cell_type": "code",
   "execution_count": null,
   "metadata": {},
   "outputs": [],
   "source": []
  },
  {
   "cell_type": "code",
   "execution_count": null,
   "metadata": {},
   "outputs": [],
   "source": []
  },
  {
   "cell_type": "code",
   "execution_count": null,
   "metadata": {},
   "outputs": [],
   "source": []
  },
  {
   "cell_type": "code",
   "execution_count": null,
   "metadata": {},
   "outputs": [],
   "source": []
  },
  {
   "cell_type": "code",
   "execution_count": null,
   "metadata": {},
   "outputs": [],
   "source": []
  }
 ],
 "metadata": {
  "kernelspec": {
   "display_name": "Python 3",
   "language": "python",
   "name": "python3"
  },
  "language_info": {
   "codemirror_mode": {
    "name": "ipython",
    "version": 3
   },
   "file_extension": ".py",
   "mimetype": "text/x-python",
   "name": "python",
   "nbconvert_exporter": "python",
   "pygments_lexer": "ipython3",
   "version": "3.7.3"
  }
 },
 "nbformat": 4,
 "nbformat_minor": 2
}
