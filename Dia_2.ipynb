{
 "cells": [
  {
   "cell_type": "code",
   "execution_count": 1,
   "metadata": {},
   "outputs": [],
   "source": [
    "from casadi import *\n",
    "import numpy as np\n",
    "import matplotlib.pyplot as plt"
   ]
  },
  {
   "cell_type": "code",
   "execution_count": 57,
   "metadata": {},
   "outputs": [],
   "source": [
    "N = 25\n",
    "m = 40/N\n",
    "D = 70*N\n",
    "g = 9.81\n",
    "L = 5/N"
   ]
  },
  {
   "cell_type": "code",
   "execution_count": 58,
   "metadata": {},
   "outputs": [],
   "source": [
    "opti = Opti()"
   ]
  },
  {
   "cell_type": "code",
   "execution_count": 59,
   "metadata": {},
   "outputs": [],
   "source": [
    "positions = opti.variable(N,2)"
   ]
  },
  {
   "cell_type": "code",
   "execution_count": 60,
   "metadata": {},
   "outputs": [],
   "source": [
    "positions[0,:] = [-2, 0]"
   ]
  },
  {
   "cell_type": "code",
   "execution_count": 61,
   "metadata": {},
   "outputs": [],
   "source": [
    "positions[-1,:] = [2, 0]"
   ]
  },
  {
   "cell_type": "code",
   "execution_count": 62,
   "metadata": {},
   "outputs": [
    {
     "data": {
      "text/plain": [
       "MX(((opti2_x_1[:50:25] = [-2, 0]')[24:74:25] = [2, 0]'))"
      ]
     },
     "execution_count": 62,
     "metadata": {},
     "output_type": "execute_result"
    }
   ],
   "source": [
    "positions"
   ]
  },
  {
   "cell_type": "code",
   "execution_count": 63,
   "metadata": {},
   "outputs": [],
   "source": [
    "grav_e = m * g * sum1(positions[:,1])"
   ]
  },
  {
   "cell_type": "code",
   "execution_count": 64,
   "metadata": {},
   "outputs": [],
   "source": [
    "pot_e = 0.5*D* sum2(sum1((positions[:-1,:]- positions[1:,:])**2))"
   ]
  },
  {
   "cell_type": "code",
   "execution_count": 65,
   "metadata": {},
   "outputs": [
    {
     "data": {
      "text/plain": [
       "MX(@1=((opti2_x_1[:50:25] = [-2, 0]')[24:74:25] = [2, 0]'), (875*mac(mac(ones(1x24),sq((@1[:50:25;:24]-@1[:50:25;1:25])),zeros(1x2)),ones(2x1),0)))"
      ]
     },
     "execution_count": 65,
     "metadata": {},
     "output_type": "execute_result"
    }
   ],
   "source": [
    "pot_e"
   ]
  },
  {
   "cell_type": "code",
   "execution_count": 66,
   "metadata": {},
   "outputs": [],
   "source": [
    "tot_e = grav_e + pot_e"
   ]
  },
  {
   "cell_type": "code",
   "execution_count": 67,
   "metadata": {},
   "outputs": [
    {
     "data": {
      "text/plain": [
       "(1, 1)"
      ]
     },
     "execution_count": 67,
     "metadata": {},
     "output_type": "execute_result"
    }
   ],
   "source": [
    "tot_e.shape"
   ]
  },
  {
   "cell_type": "code",
   "execution_count": 68,
   "metadata": {},
   "outputs": [],
   "source": [
    "opti.minimize(tot_e)"
   ]
  },
  {
   "cell_type": "code",
   "execution_count": 69,
   "metadata": {},
   "outputs": [],
   "source": [
    "opti.subject_to(positions[0,:].T == [-2, 0])"
   ]
  },
  {
   "cell_type": "code",
   "execution_count": 70,
   "metadata": {},
   "outputs": [],
   "source": [
    "opti.subject_to(positions[-1,:].T == [2, 0])"
   ]
  },
  {
   "cell_type": "code",
   "execution_count": 71,
   "metadata": {},
   "outputs": [],
   "source": [
    "opti.solver('ipopt')"
   ]
  },
  {
   "cell_type": "code",
   "execution_count": 72,
   "metadata": {},
   "outputs": [
    {
     "name": "stdout",
     "output_type": "stream",
     "text": [
      "This is Ipopt version 3.12.3, running with linear solver mumps.\n",
      "NOTE: Other linear solvers might be more efficient (see Ipopt documentation).\n",
      "\n",
      "Number of nonzeros in equality constraint Jacobian...:        0\n",
      "Number of nonzeros in inequality constraint Jacobian.:        0\n",
      "Number of nonzeros in Lagrangian Hessian.............:       90\n",
      "\n",
      "Total number of variables............................:       50\n",
      "                     variables with only lower bounds:        0\n",
      "                variables with lower and upper bounds:        0\n",
      "                     variables with only upper bounds:        0\n",
      "Total number of equality constraints.................:        4\n",
      "Total number of inequality constraints...............:        0\n",
      "        inequality constraints with only lower bounds:        0\n",
      "   inequality constraints with lower and upper bounds:        0\n",
      "        inequality constraints with only upper bounds:        0\n",
      "\n",
      "iter    objective    inf_pr   inf_du lg(mu)  ||d||  lg(rg) alpha_du alpha_pr  ls\n",
      "   0  7.0000000e+03 0.00e+00 1.00e+02  -1.0 0.00e+00    -  0.00e+00 0.00e+00   0\n",
      "   1  5.0240628e+02 0.00e+00 1.83e-02  -1.0 1.83e+00  -2.0 1.00e+00 1.00e+00f  1\n",
      "   2  5.0238504e+02 0.00e+00 1.98e-04  -3.8 7.44e-03  -1.6 1.00e+00 1.00e+00f  1\n",
      "   3  5.0238503e+02 0.00e+00 1.53e-05  -5.7 2.15e-04  -1.1 1.00e+00 1.00e+00f  1\n",
      "   4  5.0238503e+02 0.00e+00 4.12e-07  -8.6 1.74e-05  -1.6 1.00e+00 1.00e+00f  1\n",
      "   5  5.0238503e+02 0.00e+00 3.77e-09  -8.6 4.77e-07  -2.1 1.00e+00 1.00e+00f  1\n",
      "\n",
      "Number of Iterations....: 5\n",
      "\n",
      "                                   (scaled)                 (unscaled)\n",
      "Objective...............:   1.4353857863401357e+01    5.0238502521904752e+02\n",
      "Dual infeasibility......:   3.7702765354197254e-09    1.3195967873969039e-07\n",
      "Constraint violation....:   0.0000000000000000e+00    0.0000000000000000e+00\n",
      "Complementarity.........:   0.0000000000000000e+00    0.0000000000000000e+00\n",
      "Overall NLP error.......:   3.7702765354197254e-09    1.3195967873969039e-07\n",
      "\n",
      "\n",
      "Number of objective function evaluations             = 6\n",
      "Number of objective gradient evaluations             = 6\n",
      "Number of equality constraint evaluations            = 6\n",
      "Number of inequality constraint evaluations          = 0\n",
      "Number of equality constraint Jacobian evaluations   = 6\n",
      "Number of inequality constraint Jacobian evaluations = 0\n",
      "Number of Lagrangian Hessian evaluations             = 5\n",
      "Total CPU secs in IPOPT (w/o function evaluations)   =      0.005\n",
      "Total CPU secs in NLP function evaluations           =      0.000\n",
      "\n",
      "EXIT: Optimal Solution Found.\n",
      "      solver  :   t_proc      (avg)   t_wall      (avg)    n_eval\n",
      "       nlp_f  |  58.00us (  9.67us)  59.00us (  9.83us)         6\n",
      "       nlp_g  |  57.00us (  9.50us)  51.16us (  8.53us)         6\n",
      "  nlp_grad_f  |  87.00us ( 12.43us)  87.70us ( 12.53us)         7\n",
      "  nlp_hess_l  | 136.00us ( 27.20us) 136.70us ( 27.34us)         5\n",
      "   nlp_jac_g  |  27.00us (  3.86us)  24.96us (  3.57us)         7\n",
      "       total  |   6.41ms (  6.41ms)   5.76ms (  5.76ms)         1\n"
     ]
    }
   ],
   "source": [
    "sol = opti.solve()"
   ]
  },
  {
   "cell_type": "code",
   "execution_count": 73,
   "metadata": {},
   "outputs": [],
   "source": [
    "def_sol = sol.value(positions)"
   ]
  },
  {
   "cell_type": "code",
   "execution_count": 97,
   "metadata": {},
   "outputs": [
    {
     "data": {
      "text/plain": [
       "[<matplotlib.lines.Line2D at 0x7f212b77bcc0>]"
      ]
     },
     "execution_count": 97,
     "metadata": {},
     "output_type": "execute_result"
    },
    {
     "data": {
      "image/png": "[encoded data removed]",
      "text/plain": [
       "<Figure size 432x288 with 1 Axes>"
      ]
     },
     "metadata": {
      "needs_background": "light"
     },
     "output_type": "display_data"
    }
   ],
   "source": [
    "plt.plot(def_sol[:,0], def_sol[:,1], marker = 'x')"
   ]
  },
  {
   "cell_type": "code",
   "execution_count": 75,
   "metadata": {},
   "outputs": [
    {
     "data": {
      "text/plain": [
       "MX(@1=((opti2_x_1[:50:25] = [-2, 0]')[24:74:25] = [2, 0]'), ((15.696*mac(ones(1x25),@1[25:50],0))+(875*mac(mac(ones(1x24),sq((@1[:50:25;:24]-@1[:50:25;1:25])),zeros(1x2)),ones(2x1),0))))"
      ]
     },
     "execution_count": 75,
     "metadata": {},
     "output_type": "execute_result"
    }
   ],
   "source": [
    "opti.f"
   ]
  },
  {
   "cell_type": "code",
   "execution_count": 76,
   "metadata": {},
   "outputs": [
    {
     "data": {
      "text/plain": [
       "MX(vec(opti2_x_1))"
      ]
     },
     "execution_count": 76,
     "metadata": {},
     "output_type": "execute_result"
    }
   ],
   "source": [
    "opti.x"
   ]
  },
  {
   "cell_type": "code",
   "execution_count": 84,
   "metadata": {},
   "outputs": [],
   "source": [
    "hess_pos = hessian(opti.f, opti.x)[0]"
   ]
  },
  {
   "cell_type": "code",
   "execution_count": 90,
   "metadata": {
    "collapsed": true
   },
   "outputs": [
    {
     "name": "stdout",
     "output_type": "stream",
     "text": [
      "..................................................\n",
      ".**...............................................\n",
      ".***..............................................\n",
      "..***.............................................\n",
      "...***............................................\n",
      "....***...........................................\n",
      ".....***..........................................\n",
      "......***.........................................\n",
      ".......***........................................\n",
      "........***.......................................\n",
      ".........***......................................\n",
      "..........***.....................................\n",
      "...........***....................................\n",
      "............***...................................\n",
      ".............***..................................\n",
      "..............***.................................\n",
      "...............***................................\n",
      "................***...............................\n",
      ".................***..............................\n",
      "..................***.............................\n",
      "...................***............................\n",
      "....................***...........................\n",
      ".....................***..........................\n",
      "......................**..........................\n",
      "..................................................\n",
      "..................................................\n",
      "..........................**......................\n",
      "..........................***.....................\n",
      "...........................***....................\n",
      "............................***...................\n",
      ".............................***..................\n",
      "..............................***.................\n",
      "...............................***................\n",
      "................................***...............\n",
      ".................................***..............\n",
      "..................................***.............\n",
      "...................................***............\n",
      "....................................***...........\n",
      ".....................................***..........\n",
      "......................................***.........\n",
      ".......................................***........\n",
      "........................................***.......\n",
      ".........................................***......\n",
      "..........................................***.....\n",
      "...........................................***....\n",
      "............................................***...\n",
      ".............................................***..\n",
      "..............................................***.\n",
      "...............................................**.\n",
      "..................................................\n"
     ]
    }
   ],
   "source": [
    "hess_pos.sparsity().spy()"
   ]
  },
  {
   "cell_type": "code",
   "execution_count": null,
   "metadata": {},
   "outputs": [],
   "source": [
    "import pylab as pl"
   ]
  },
  {
   "cell_type": "code",
   "execution_count": 91,
   "metadata": {},
   "outputs": [
    {
     "data": {
      "text/plain": [
       "<matplotlib.image.AxesImage at 0x7f212e73b978>"
      ]
     },
     "execution_count": 91,
     "metadata": {},
     "output_type": "execute_result"
    },
    {
     "data": {
      "image/png": "[encoded data removed]",
      "text/plain": [
       "<Figure size 432x288 with 1 Axes>"
      ]
     },
     "metadata": {
      "needs_background": "light"
     },
     "output_type": "display_data"
    }
   ],
   "source": [
    "pl.spy(hess_pos.sparsity())"
   ]
  },
  {
   "cell_type": "code",
   "execution_count": 92,
   "metadata": {},
   "outputs": [
    {
     "data": {
      "text/plain": [
       "MX(vertcat(opti2_lam_g_1, opti2_lam_g_2))"
      ]
     },
     "execution_count": 92,
     "metadata": {},
     "output_type": "execute_result"
    }
   ],
   "source": [
    "opti.lam_g"
   ]
  },
  {
   "cell_type": "code",
   "execution_count": 93,
   "metadata": {},
   "outputs": [
    {
     "data": {
      "text/plain": [
       "MX(@1=((opti2_x_1[:50:25] = [-2, 0]')[24:74:25] = [2, 0]'), vertcat(@1[:50:25]', @1[24:74:25]'))"
      ]
     },
     "execution_count": 93,
     "metadata": {},
     "output_type": "execute_result"
    }
   ],
   "source": [
    "opti.g"
   ]
  },
  {
   "cell_type": "markdown",
   "metadata": {},
   "source": [
    "Lagrangiana:"
   ]
  },
  {
   "cell_type": "code",
   "execution_count": 98,
   "metadata": {},
   "outputs": [
    {
     "name": "stdout",
     "output_type": "stream",
     "text": [
      "4.571413648684164e-07\n"
     ]
    }
   ],
   "source": [
    "lag = opti.f+opti.lam_g.T @ opti.g\n",
    " \n",
    "grad_lag = sol.value(gradient(lag,opti.x))\n",
    " \n",
    "print(pl.norm(grad_lag))"
   ]
  },
  {
   "cell_type": "code",
   "execution_count": 102,
   "metadata": {},
   "outputs": [],
   "source": [
    "distances = sqrt(sum2((positions[:-1,:]- positions[1:,:])**2))"
   ]
  },
  {
   "cell_type": "code",
   "execution_count": 103,
   "metadata": {},
   "outputs": [
    {
     "data": {
      "text/plain": [
       "(24, 1)"
      ]
     },
     "execution_count": 103,
     "metadata": {},
     "output_type": "execute_result"
    }
   ],
   "source": [
    "distances.shape"
   ]
  },
  {
   "cell_type": "code",
   "execution_count": 104,
   "metadata": {},
   "outputs": [],
   "source": [
    "pot_e = 0.5*D* sum1((L - distances)**2)"
   ]
  },
  {
   "cell_type": "code",
   "execution_count": 105,
   "metadata": {},
   "outputs": [],
   "source": [
    "tot_e = grav_e + pot_e"
   ]
  },
  {
   "cell_type": "code",
   "execution_count": 106,
   "metadata": {},
   "outputs": [],
   "source": [
    "opti.minimize(tot_e)"
   ]
  },
  {
   "cell_type": "code",
   "execution_count": 111,
   "metadata": {},
   "outputs": [],
   "source": [
    "init_pos = np.zeros([N, 2])"
   ]
  },
  {
   "cell_type": "code",
   "execution_count": 112,
   "metadata": {},
   "outputs": [],
   "source": [
    "init_pos[:, 0] = np.linspace(-2,2,N)"
   ]
  },
  {
   "cell_type": "code",
   "execution_count": 113,
   "metadata": {},
   "outputs": [],
   "source": [
    "opti.set_initial(positions, init_pos)"
   ]
  },
  {
   "cell_type": "code",
   "execution_count": 114,
   "metadata": {
    "scrolled": true
   },
   "outputs": [
    {
     "name": "stdout",
     "output_type": "stream",
     "text": [
      "This is Ipopt version 3.12.3, running with linear solver mumps.\n",
      "NOTE: Other linear solvers might be more efficient (see Ipopt documentation).\n",
      "\n",
      "Number of nonzeros in equality constraint Jacobian...:        0\n",
      "Number of nonzeros in inequality constraint Jacobian.:        0\n",
      "Number of nonzeros in Lagrangian Hessian.............:      157\n",
      "\n",
      "Total number of variables............................:       50\n",
      "                     variables with only lower bounds:        0\n",
      "                variables with lower and upper bounds:        0\n",
      "                     variables with only upper bounds:        0\n",
      "Total number of equality constraints.................:        4\n",
      "Total number of inequality constraints...............:        0\n",
      "        inequality constraints with only lower bounds:        0\n",
      "   inequality constraints with lower and upper bounds:        0\n",
      "        inequality constraints with only upper bounds:        0\n",
      "\n",
      "iter    objective    inf_pr   inf_du lg(mu)  ||d||  lg(rg) alpha_du alpha_pr  ls\n",
      "   0  2.3333333e+01 0.00e+00 1.57e+01  -1.0 0.00e+00    -  0.00e+00 0.00e+00   0\n",
      "   1  2.2763976e+01 0.00e+00 1.63e+01  -1.0 1.63e-03   4.0 1.00e+00 1.00e+00f  1\n",
      "   2  2.1022735e+01 0.00e+00 1.86e+01  -1.0 5.58e-03   3.5 1.00e+00 1.00e+00f  1\n",
      "   3  2.0360561e+01 0.00e+00 1.95e+01  -1.0 2.19e-03   3.9 1.00e+00 1.00e+00f  1\n",
      "   4  1.8304301e+01 0.00e+00 2.33e+01  -1.0 7.88e-03   3.5 1.00e+00 1.00e+00f  1\n",
      "   5  1.7512579e+01 0.00e+00 2.48e+01  -1.0 3.14e-03   3.9 1.00e+00 1.00e+00f  1\n",
      "   6  1.4946803e+01 0.00e+00 3.13e+01  -1.0 1.20e-02   3.4 1.00e+00 1.00e+00f  1\n",
      "   7  1.3927018e+01 0.00e+00 3.37e+01  -1.0 4.81e-03   3.8 1.00e+00 1.00e+00f  1\n",
      "   8  1.0255749e+01 0.00e+00 4.24e+01  -1.0 1.91e-02   3.4 1.00e+00 1.00e+00f  1\n",
      "   9  8.7515231e+00 0.00e+00 4.44e+01  -1.0 7.18e-03   3.8 1.00e+00 1.00e+00f  1\n",
      "iter    objective    inf_pr   inf_du lg(mu)  ||d||  lg(rg) alpha_du alpha_pr  ls\n",
      "  10  3.2094872e+00 0.00e+00 4.35e+01  -1.0 2.45e-02   3.3 1.00e+00 1.00e+00f  1\n",
      "  11  1.2396909e+00 0.00e+00 4.05e+01  -1.0 7.43e-03   3.7 1.00e+00 1.00e+00f  1\n",
      "  12 -4.8927100e+00 0.00e+00 3.58e+01  -1.0 2.28e-02   3.3 1.00e+00 1.00e+00f  1\n",
      "  13 -6.9576635e+00 0.00e+00 3.44e+01  -1.0 7.06e-03   3.7 1.00e+00 1.00e+00f  1\n",
      "  14 -1.4294115e+01 0.00e+00 3.71e+01  -1.0 2.73e-02   3.2 1.00e+00 1.00e+00f  1\n",
      "  15 -1.6834971e+01 0.00e+00 3.82e+01  -1.0 8.92e-03   3.6 1.00e+00 1.00e+00f  1\n",
      "  16 -2.8633877e+01 0.00e+00 2.86e+01  -1.0 5.21e-02   3.2 1.00e+00 1.00e+00f  1\n",
      "  17 -4.0397401e+01 0.00e+00 1.72e+01  -1.0 3.91e-02   2.7 1.00e+00 1.00e+00f  1\n",
      "  18 -7.2674862e+01 0.00e+00 2.08e+01  -1.0 9.74e-02   2.2 1.00e+00 1.00e+00f  1\n",
      "  19 -1.5816141e+02 0.00e+00 4.91e+01  -1.0 3.04e-01   1.7 1.00e+00 1.00e+00f  1\n",
      "iter    objective    inf_pr   inf_du lg(mu)  ||d||  lg(rg) alpha_du alpha_pr  ls\n",
      "  20 -1.8384311e+02 0.00e+00 4.00e+02  -1.0 8.94e-01   1.3 1.00e+00 1.00e+00f  1\n",
      "  21 -3.0133150e+02 0.00e+00 2.75e+02  -1.0 2.71e+00   0.8 1.00e+00 2.50e-01f  3\n",
      "  22 -3.0910472e+02 0.00e+00 2.40e+02  -1.0 3.03e+00   0.3 1.00e+00 1.25e-01f  4\n",
      "  23 -4.0665580e+02 0.00e+00 1.10e+02  -1.0 2.56e-01  -0.2 1.00e+00 1.00e+00f  1\n",
      "  24 -4.2296831e+02 0.00e+00 1.19e+01  -1.0 5.91e-02  -0.7 1.00e+00 1.00e+00f  1\n",
      "  25 -4.2366882e+02 0.00e+00 4.26e+00  -1.0 2.48e-02  -1.1 1.00e+00 1.00e+00f  1\n",
      "  26 -4.2368008e+02 0.00e+00 1.39e-02  -1.0 2.64e-03  -1.6 1.00e+00 1.00e+00f  1\n",
      "  27 -4.2368008e+02 0.00e+00 7.57e-06  -3.8 3.68e-05  -2.1 1.00e+00 1.00e+00f  1\n",
      "  28 -4.2368008e+02 0.00e+00 1.68e-11  -8.6 5.96e-09  -2.6 1.00e+00 1.00e+00f  1\n",
      "\n",
      "Number of Iterations....: 28\n",
      "\n",
      "                                   (scaled)                 (unscaled)\n",
      "Objective...............:  -4.2368007993351659e+02   -4.2368007993351659e+02\n",
      "Dual infeasibility......:   1.6839862837514374e-11    1.6839862837514374e-11\n",
      "Constraint violation....:   0.0000000000000000e+00    0.0000000000000000e+00\n",
      "Complementarity.........:   0.0000000000000000e+00    0.0000000000000000e+00\n",
      "Overall NLP error.......:   1.6839862837514374e-11    1.6839862837514374e-11\n",
      "\n",
      "\n",
      "Number of objective function evaluations             = 42\n",
      "Number of objective gradient evaluations             = 29\n",
      "Number of equality constraint evaluations            = 42\n",
      "Number of inequality constraint evaluations          = 0\n",
      "Number of equality constraint Jacobian evaluations   = 29\n",
      "Number of inequality constraint Jacobian evaluations = 0\n",
      "Number of Lagrangian Hessian evaluations             = 28\n",
      "Total CPU secs in IPOPT (w/o function evaluations)   =      0.018\n",
      "Total CPU secs in NLP function evaluations           =      0.002\n",
      "\n",
      "EXIT: Optimal Solution Found.\n",
      "      solver  :   t_proc      (avg)   t_wall      (avg)    n_eval\n",
      "       nlp_f  | 376.00us (  8.95us) 384.70us (  9.16us)        42\n",
      "       nlp_g  | 275.00us (  6.55us) 256.42us (  6.11us)        42\n",
      "  nlp_grad_f  | 416.00us ( 13.87us) 416.25us ( 13.88us)        30\n",
      "  nlp_hess_l  |   1.55ms ( 55.36us)   1.56ms ( 55.71us)        28\n",
      "   nlp_jac_g  | 119.00us (  3.97us) 114.29us (  3.81us)        30\n",
      "       total  |  32.79ms ( 32.79ms)  30.93ms ( 30.93ms)         1\n"
     ]
    }
   ],
   "source": [
    "sol = opti.solve()"
   ]
  },
  {
   "cell_type": "code",
   "execution_count": 115,
   "metadata": {},
   "outputs": [],
   "source": [
    "def_sol = sol.value(positions)"
   ]
  },
  {
   "cell_type": "code",
   "execution_count": 116,
   "metadata": {},
   "outputs": [
    {
     "data": {
      "text/plain": [
       "[<matplotlib.lines.Line2D at 0x7f212b991160>]"
      ]
     },
     "execution_count": 116,
     "metadata": {},
     "output_type": "execute_result"
    },
    {
     "data": {
      "image/png": "[encoded data removed]",
      "text/plain": [
       "<Figure size 432x288 with 1 Axes>"
      ]
     },
     "metadata": {
      "needs_background": "light"
     },
     "output_type": "display_data"
    }
   ],
   "source": [
    "plt.plot(def_sol[:,0], def_sol[:,1], marker = 'x')"
   ]
  },
  {
   "cell_type": "code",
   "execution_count": 117,
   "metadata": {},
   "outputs": [
    {
     "data": {
      "text/plain": [
       "<matplotlib.image.AxesImage at 0x7f212b8eb0f0>"
      ]
     },
     "execution_count": 117,
     "metadata": {},
     "output_type": "execute_result"
    },
    {
     "data": {
      "image/png": "[encoded data removed]",
      "text/plain": [
       "<Figure size 432x288 with 1 Axes>"
      ]
     },
     "metadata": {
      "needs_background": "light"
     },
     "output_type": "display_data"
    }
   ],
   "source": [
    "hess_pos = hessian(opti.f, opti.x)[0]\n",
    "pl.spy(hess_pos.sparsity())"
   ]
  },
  {
   "cell_type": "code",
   "execution_count": 128,
   "metadata": {},
   "outputs": [],
   "source": [
    "def plot_iteration(i, pos):\n",
    "    plt.plot(pos[:,0], pos[:,1], marker = 'x', label = 'iteration'+str(i), color=colors[i])"
   ]
  },
  {
   "cell_type": "code",
   "execution_count": 129,
   "metadata": {
    "scrolled": false
   },
   "outputs": [
    {
     "name": "stdout",
     "output_type": "stream",
     "text": [
      "This is Ipopt version 3.12.3, running with linear solver mumps.\n",
      "NOTE: Other linear solvers might be more efficient (see Ipopt documentation).\n",
      "\n",
      "Number of nonzeros in equality constraint Jacobian...:        0\n",
      "Number of nonzeros in inequality constraint Jacobian.:        0\n",
      "Number of nonzeros in Lagrangian Hessian.............:      157\n",
      "\n",
      "Total number of variables............................:       50\n",
      "                     variables with only lower bounds:        0\n",
      "                variables with lower and upper bounds:        0\n",
      "                     variables with only upper bounds:        0\n",
      "Total number of equality constraints.................:        4\n",
      "Total number of inequality constraints...............:        0\n",
      "        inequality constraints with only lower bounds:        0\n",
      "   inequality constraints with lower and upper bounds:        0\n",
      "        inequality constraints with only upper bounds:        0\n",
      "\n",
      "iter    objective    inf_pr   inf_du lg(mu)  ||d||  lg(rg) alpha_du alpha_pr  ls\n",
      "   0  2.3333333e+01 0.00e+00 1.57e+01  -1.0 0.00e+00    -  0.00e+00 0.00e+00   0\n",
      "   1  2.2763976e+01 0.00e+00 1.63e+01  -1.0 1.63e-03   4.0 1.00e+00 1.00e+00f  1\n",
      "   2  2.1022735e+01 0.00e+00 1.86e+01  -1.0 5.58e-03   3.5 1.00e+00 1.00e+00f  1\n",
      "   3  2.0360561e+01 0.00e+00 1.95e+01  -1.0 2.19e-03   3.9 1.00e+00 1.00e+00f  1\n",
      "   4  1.8304301e+01 0.00e+00 2.33e+01  -1.0 7.88e-03   3.5 1.00e+00 1.00e+00f  1\n",
      "   5  1.7512579e+01 0.00e+00 2.48e+01  -1.0 3.14e-03   3.9 1.00e+00 1.00e+00f  1\n",
      "   6  1.4946803e+01 0.00e+00 3.13e+01  -1.0 1.20e-02   3.4 1.00e+00 1.00e+00f  1\n",
      "   7  1.3927018e+01 0.00e+00 3.37e+01  -1.0 4.81e-03   3.8 1.00e+00 1.00e+00f  1\n",
      "   8  1.0255749e+01 0.00e+00 4.24e+01  -1.0 1.91e-02   3.4 1.00e+00 1.00e+00f  1\n",
      "   9  8.7515231e+00 0.00e+00 4.44e+01  -1.0 7.18e-03   3.8 1.00e+00 1.00e+00f  1\n",
      "iter    objective    inf_pr   inf_du lg(mu)  ||d||  lg(rg) alpha_du alpha_pr  ls\n",
      "  10  3.2094872e+00 0.00e+00 4.35e+01  -1.0 2.45e-02   3.3 1.00e+00 1.00e+00f  1\n",
      "  11  1.2396909e+00 0.00e+00 4.05e+01  -1.0 7.43e-03   3.7 1.00e+00 1.00e+00f  1\n",
      "  12 -4.8927100e+00 0.00e+00 3.58e+01  -1.0 2.28e-02   3.3 1.00e+00 1.00e+00f  1\n",
      "  13 -6.9576635e+00 0.00e+00 3.44e+01  -1.0 7.06e-03   3.7 1.00e+00 1.00e+00f  1\n",
      "  14 -1.4294115e+01 0.00e+00 3.71e+01  -1.0 2.73e-02   3.2 1.00e+00 1.00e+00f  1\n",
      "  15 -1.6834971e+01 0.00e+00 3.82e+01  -1.0 8.92e-03   3.6 1.00e+00 1.00e+00f  1\n",
      "  16 -2.8633877e+01 0.00e+00 2.86e+01  -1.0 5.21e-02   3.2 1.00e+00 1.00e+00f  1\n",
      "  17 -4.0397401e+01 0.00e+00 1.72e+01  -1.0 3.91e-02   2.7 1.00e+00 1.00e+00f  1\n",
      "  18 -7.2674862e+01 0.00e+00 2.08e+01  -1.0 9.74e-02   2.2 1.00e+00 1.00e+00f  1\n",
      "  19 -1.5816141e+02 0.00e+00 4.91e+01  -1.0 3.04e-01   1.7 1.00e+00 1.00e+00f  1\n",
      "iter    objective    inf_pr   inf_du lg(mu)  ||d||  lg(rg) alpha_du alpha_pr  ls\n",
      "  20 -1.8384311e+02 0.00e+00 4.00e+02  -1.0 8.94e-01   1.3 1.00e+00 1.00e+00f  1\n",
      "  21 -3.0133150e+02 0.00e+00 2.75e+02  -1.0 2.71e+00   0.8 1.00e+00 2.50e-01f  3\n",
      "  22 -3.0910472e+02 0.00e+00 2.40e+02  -1.0 3.03e+00   0.3 1.00e+00 1.25e-01f  4\n",
      "  23 -4.0665580e+02 0.00e+00 1.10e+02  -1.0 2.56e-01  -0.2 1.00e+00 1.00e+00f  1\n",
      "  24 -4.2296831e+02 0.00e+00 1.19e+01  -1.0 5.91e-02  -0.7 1.00e+00 1.00e+00f  1\n",
      "  25 -4.2366882e+02 0.00e+00 4.26e+00  -1.0 2.48e-02  -1.1 1.00e+00 1.00e+00f  1\n",
      "  26 -4.2368008e+02 0.00e+00 1.39e-02  -1.0 2.64e-03  -1.6 1.00e+00 1.00e+00f  1\n",
      "  27 -4.2368008e+02 0.00e+00 7.57e-06  -3.8 3.68e-05  -2.1 1.00e+00 1.00e+00f  1\n",
      "  28 -4.2368008e+02 0.00e+00 1.68e-11  -8.6 5.96e-09  -2.6 1.00e+00 1.00e+00f  1\n",
      "\n",
      "Number of Iterations....: 28\n",
      "\n",
      "                                   (scaled)                 (unscaled)\n",
      "Objective...............:  -4.2368007993351659e+02   -4.2368007993351659e+02\n",
      "Dual infeasibility......:   1.6839862837514374e-11    1.6839862837514374e-11\n",
      "Constraint violation....:   0.0000000000000000e+00    0.0000000000000000e+00\n",
      "Complementarity.........:   0.0000000000000000e+00    0.0000000000000000e+00\n",
      "Overall NLP error.......:   1.6839862837514374e-11    1.6839862837514374e-11\n",
      "\n",
      "\n",
      "Number of objective function evaluations             = 42\n",
      "Number of objective gradient evaluations             = 29\n",
      "Number of equality constraint evaluations            = 42\n",
      "Number of inequality constraint evaluations          = 0\n",
      "Number of equality constraint Jacobian evaluations   = 29\n",
      "Number of inequality constraint Jacobian evaluations = 0\n",
      "Number of Lagrangian Hessian evaluations             = 28\n",
      "Total CPU secs in IPOPT (w/o function evaluations)   =      0.143\n",
      "Total CPU secs in NLP function evaluations           =      0.004\n",
      "\n",
      "EXIT: Optimal Solution Found.\n",
      "      solver  :   t_proc      (avg)   t_wall      (avg)    n_eval\n",
      "callback_fun  | 131.32ms (  4.53ms) 126.44ms (  4.36ms)        29\n",
      "       nlp_f  | 464.00us ( 11.05us) 464.37us ( 11.06us)        42\n",
      "       nlp_g  | 305.00us (  7.26us) 293.47us (  6.99us)        42\n",
      "  nlp_grad_f  | 520.00us ( 17.33us) 523.06us ( 17.44us)        30\n",
      "  nlp_hess_l  |   2.19ms ( 78.25us)   2.19ms ( 78.25us)        28\n",
      "   nlp_jac_g  | 143.00us (  4.77us) 143.66us (  4.79us)        30\n",
      "       total  | 164.51ms (164.51ms) 158.19ms (158.19ms)         1\n"
     ]
    },
    {
     "data": {
      "text/plain": [
       "OptiSol(Opti {\n",
       "  instance #2\n",
       "  #variables: 1 (nx = 50)\n",
       "  #parameters: 0 (np = 0)\n",
       "  #constraints: 2 (ng = 4)\n",
       "  CasADi solver allocated.\n",
       "  CasADi solver was called: Solve_Succeeded\n",
       "})"
      ]
     },
     "execution_count": 129,
     "metadata": {},
     "output_type": "execute_result"
    },
    {
     "data": {
      "image/png": "[encoded data removed]",
      "text/plain": [
       "<Figure size 936x576 with 1 Axes>"
      ]
     },
     "metadata": {
      "needs_background": "light"
     },
     "output_type": "display_data"
    }
   ],
   "source": [
    "plt.figure(figsize=[13,8])\n",
    "colors = pl.cm.jet(np.linspace(0,1,30))\n",
    "opti.callback(lambda i: plot_iteration(i, opti.debug.value(positions)))\n",
    "opti.solve()\n",
    "#plt.legend()"
   ]
  },
  {
   "cell_type": "markdown",
   "metadata": {},
   "source": [
    "## Ejercicio 2: Fitting"
   ]
  },
  {
   "cell_type": "code",
   "execution_count": 130,
   "metadata": {},
   "outputs": [],
   "source": [
    "a = MX.sym('a')\n",
    "b = MX.sym('b')\n",
    "alpha = MX.sym('alpha')\n",
    "beta  = MX.sym('beta')\n",
    "gamma = MX.sym('gamma')\n",
    "delta  = MX.sym('delta')"
   ]
  },
  {
   "cell_type": "code",
   "execution_count": 131,
   "metadata": {},
   "outputs": [],
   "source": [
    "p = vertcat(a,b,alpha,beta,gamma,delta)"
   ]
  },
  {
   "cell_type": "code",
   "execution_count": 143,
   "metadata": {},
   "outputs": [],
   "source": [
    "p_est = vertcat(1.43, 0.99, 0.22, 0.022, 0.022, 0.011)"
   ]
  },
  {
   "cell_type": "code",
   "execution_count": 144,
   "metadata": {},
   "outputs": [],
   "source": [
    "x = MX.sym('x')\n",
    "y = MX.sym('y')"
   ]
  },
  {
   "cell_type": "code",
   "execution_count": 135,
   "metadata": {},
   "outputs": [],
   "source": [
    "x_next = (a * x - alpha*x*y)/(1 + gamma*x)\n",
    "y_next = (b * y + beta*x*y)/(1 + delta*y)"
   ]
  },
  {
   "cell_type": "code",
   "execution_count": 136,
   "metadata": {},
   "outputs": [],
   "source": [
    "pop_step = Function('pop_step', [x,y,p], [x_next, y_next])"
   ]
  },
  {
   "cell_type": "code",
   "execution_count": 137,
   "metadata": {},
   "outputs": [],
   "source": [
    "x_0 = 10\n",
    "y_0 = 0.1"
   ]
  },
  {
   "cell_type": "code",
   "execution_count": 145,
   "metadata": {},
   "outputs": [
    {
     "name": "stdout",
     "output_type": "stream",
     "text": [
      "11.541 0.120867\n",
      "12.9171 0.150147\n",
      "14.0516 0.190998\n",
      "14.8979 0.247612\n",
      "15.4339 0.325406\n",
      "15.6513 0.431099\n",
      "15.5445 0.572512\n",
      "15.1051 0.757802\n",
      "14.3225 0.993767\n",
      "13.1929 1.28294\n"
     ]
    }
   ],
   "source": [
    "x_curr = x_0\n",
    "y_curr = y_0\n",
    "for i in range(10):\n",
    "    x_curr, y_curr = pop_step(x_curr, y_curr, p_est)\n",
    "    print(x_curr, y_curr)"
   ]
  },
  {
   "cell_type": "code",
   "execution_count": 146,
   "metadata": {},
   "outputs": [],
   "source": [
    "data_mat = np.loadtxt('data.mat')"
   ]
  },
  {
   "cell_type": "code",
   "execution_count": 148,
   "metadata": {},
   "outputs": [
    {
     "data": {
      "text/plain": [
       "(101, 2)"
      ]
     },
     "execution_count": 148,
     "metadata": {},
     "output_type": "execute_result"
    }
   ],
   "source": [
    "data_mat.shape"
   ]
  },
  {
   "cell_type": "code",
   "execution_count": 164,
   "metadata": {},
   "outputs": [],
   "source": [
    "def sq_err(x0, y0, data, p, n):\n",
    "    error = 0\n",
    "    x_curr = x_0\n",
    "    y_curr = y_0\n",
    "    for i in range(n):\n",
    "        x_curr, y_curr = pop_step(x_curr, y_curr, p)\n",
    "        x_obj, y_obj = data[i+1, :]\n",
    "        err_x = (x_curr - x_obj)**2\n",
    "        err_y = (y_curr - y_obj)**2\n",
    "        error += err_x + err_y\n",
    "    return error"
   ]
  },
  {
   "cell_type": "code",
   "execution_count": 165,
   "metadata": {},
   "outputs": [
    {
     "data": {
      "text/plain": [
       "DM(56.8927)"
      ]
     },
     "execution_count": 165,
     "metadata": {},
     "output_type": "execute_result"
    }
   ],
   "source": [
    "sq_err(10, 0.1, data_mat, p_est, 10)"
   ]
  },
  {
   "cell_type": "code",
   "execution_count": 151,
   "metadata": {},
   "outputs": [],
   "source": [
    "opti = Opti()"
   ]
  },
  {
   "cell_type": "code",
   "execution_count": 152,
   "metadata": {},
   "outputs": [],
   "source": [
    "p = opti.variable(6)"
   ]
  },
  {
   "cell_type": "code",
   "execution_count": 153,
   "metadata": {},
   "outputs": [],
   "source": [
    "opti.set_initial(p, p_est)"
   ]
  },
  {
   "cell_type": "code",
   "execution_count": 166,
   "metadata": {},
   "outputs": [],
   "source": [
    "tot_error = sq_err(10, 0.1, data_mat, p, 100)"
   ]
  },
  {
   "cell_type": "code",
   "execution_count": 167,
   "metadata": {
    "collapsed": true
   },
   "outputs": [
    {
     "data": {
      "text/plain": [
       "MX(@1=pop_step(10, 0.1, opti3_x_1), @2=@1{0}, @3=@1{1}, @4=pop_step(@2, @3, opti3_x_1), @5=@4{0}, @6=@4{1}, @7=pop_step(@5, @6, opti3_x_1), @8=@7{0}, @9=@7{1}, @10=pop_step(@8, @9, opti3_x_1), @11=@10{0}, @12=@10{1}, @13=pop_step(@11, @12, opti3_x_1), @14=@13{0}, @15=@13{1}, @16=pop_step(@14, @15, opti3_x_1), @17=@16{0}, @18=@16{1}, @19=pop_step(@17, @18, opti3_x_1), @20=@19{0}, @21=@19{1}, @22=pop_step(@20, @21, opti3_x_1), @23=@22{0}, @24=@22{1}, @25=pop_step(@23, @24, opti3_x_1), @26=@25{0}, @27=@25{1}, @28=pop_step(@26, @27, opti3_x_1), @29=@28{0}, @30=@28{1}, @31=pop_step(@29, @30, opti3_x_1), @32=@31{0}, @33=@31{1}, @34=pop_step(@32, @33, opti3_x_1), @35=@34{0}, @36=@34{1}, @37=pop_step(@35, @36, opti3_x_1), @38=@37{0}, @39=@37{1}, @40=pop_step(@38, @39, opti3_x_1), @41=@40{0}, @42=@40{1}, @43=pop_step(@41, @42, opti3_x_1), @44=@43{0}, @45=@43{1}, @46=pop_step(@44, @45, opti3_x_1), @47=@46{0}, @48=@46{1}, @49=pop_step(@47, @48, opti3_x_1), @50=@49{0}, @51=@49{1}, @52=pop_step(@50, @51, opti3_x_1), @53=@52{0}, @54=@52{1}, @55=pop_step(@53, @54, opti3_x_1), @56=@55{0}, @57=@55{1}, @58=pop_step(@56, @57, opti3_x_1), @59=@58{0}, @60=@58{1}, @61=pop_step(@59, @60, opti3_x_1), @62=@61{0}, @63=@61{1}, @64=pop_step(@62, @63, opti3_x_1), @65=@64{0}, @66=@64{1}, @67=pop_step(@65, @66, opti3_x_1), @68=@67{0}, @69=@67{1}, @70=pop_step(@68, @69, opti3_x_1), @71=@70{0}, @72=@70{1}, @73=pop_step(@71, @72, opti3_x_1), @74=@73{0}, @75=@73{1}, @76=pop_step(@74, @75, opti3_x_1), @77=@76{0}, @78=@76{1}, @79=pop_step(@77, @78, opti3_x_1), @80=@79{0}, @81=@79{1}, @82=pop_step(@80, @81, opti3_x_1), @83=@82{0}, @84=@82{1}, @85=pop_step(@83, @84, opti3_x_1), @86=@85{0}, @87=@85{1}, @88=pop_step(@86, @87, opti3_x_1), @89=@88{0}, @90=@88{1}, @91=pop_step(@89, @90, opti3_x_1), @92=@91{0}, @93=@91{1}, @94=pop_step(@92, @93, opti3_x_1), @95=@94{0}, @96=@94{1}, @97=pop_step(@95, @96, opti3_x_1), @98=@97{0}, @99=@97{1}, @100=pop_step(@98, @99, opti3_x_1), @101=@100{0}, @102=@100{1}, @103=pop_step(@101, @102, opti3_x_1), @104=@103{0}, @105=@103{1}, @106=pop_step(@104, @105, opti3_x_1), @107=@106{0}, @108=@106{1}, @109=pop_step(@107, @108, opti3_x_1), @110=@109{0}, @111=@109{1}, @112=pop_step(@110, @111, opti3_x_1), @113=@112{0}, @114=@112{1}, @115=pop_step(@113, @114, opti3_x_1), @116=@115{0}, @117=@115{1}, @118=pop_step(@116, @117, opti3_x_1), @119=@118{0}, @120=@118{1}, @121=pop_step(@119, @120, opti3_x_1), @122=@121{0}, @123=@121{1}, @124=pop_step(@122, @123, opti3_x_1), @125=@124{0}, @126=@124{1}, @127=pop_step(@125, @126, opti3_x_1), @128=@127{0}, @129=@127{1}, @130=pop_step(@128, @129, opti3_x_1), @131=@130{0}, @132=@130{1}, @133=pop_step(@131, @132, opti3_x_1), @134=@133{0}, @135=@133{1}, @136=pop_step(@134, @135, opti3_x_1), @137=@136{0}, @138=@136{1}, @139=pop_step(@137, @138, opti3_x_1), @140=@139{0}, @141=@139{1}, @142=pop_step(@140, @141, opti3_x_1), @143=@142{0}, @144=@142{1}, @145=pop_step(@143, @144, opti3_x_1), @146=@145{0}, @147=@145{1}, @148=pop_step(@146, @147, opti3_x_1), @149=@148{0}, @150=@148{1}, @151=pop_step(@149, @150, opti3_x_1), @152=@151{0}, @153=@151{1}, @154=pop_step(@152, @153, opti3_x_1), @155=@154{0}, @156=@154{1}, @157=pop_step(@155, @156, opti3_x_1), @158=@157{0}, @159=@157{1}, @160=pop_step(@158, @159, opti3_x_1), @161=@160{0}, @162=@160{1}, @163=pop_step(@161, @162, opti3_x_1), @164=@163{0}, @165=@163{1}, @166=pop_step(@164, @165, opti3_x_1), @167=@166{0}, @168=@166{1}, @169=pop_step(@167, @168, opti3_x_1), @170=@169{0}, @171=@169{1}, @172=pop_step(@170, @171, opti3_x_1), @173=@172{0}, @174=@172{1}, @175=pop_step(@173, @174, opti3_x_1), @176=@175{0}, @177=@175{1}, @178=pop_step(@176, @177, opti3_x_1), @179=@178{0}, @180=@178{1}, @181=pop_step(@179, @180, opti3_x_1), @182=@181{0}, @183=@181{1}, @184=pop_step(@182, @183, opti3_x_1), @185=@184{0}, @186=@184{1}, @187=pop_step(@185, @186, opti3_x_1), @188=@187{0}, @189=@187{1}, @190=pop_step(@188, @189, opti3_x_1), @191=@190{0}, @192=@190{1}, @193=pop_step(@191, @192, opti3_x_1), @194=@193{0}, @195=@193{1}, @196=pop_step(@194, @195, opti3_x_1), @197=@196{0}, @198=@196{1}, @199=pop_step(@197, @198, opti3_x_1), @200=@199{0}, @201=@199{1}, @202=pop_step(@200, @201, opti3_x_1), @203=@202{0}, @204=@202{1}, @205=pop_step(@203, @204, opti3_x_1), @206=@205{0}, @207=@205{1}, @208=pop_step(@206, @207, opti3_x_1), @209=@208{0}, @210=@208{1}, @211=pop_step(@209, @210, opti3_x_1), @212=@211{0}, @213=@211{1}, @214=pop_step(@212, @213, opti3_x_1), @215=@214{0}, @216=@214{1}, @217=pop_step(@215, @216, opti3_x_1), @218=@217{0}, @219=@217{1}, @220=pop_step(@218, @219, opti3_x_1), @221=@220{0}, @222=@220{1}, @223=pop_step(@221, @222, opti3_x_1), @224=@223{0}, @225=@223{1}, @226=pop_step(@224, @225, opti3_x_1), @227=@226{0}, @228=@226{1}, @229=pop_step(@227, @228, opti3_x_1), @230=@229{0}, @231=@229{1}, @232=pop_step(@230, @231, opti3_x_1), @233=@232{0}, @234=@232{1}, @235=pop_step(@233, @234, opti3_x_1), @236=@235{0}, @237=@235{1}, @238=pop_step(@236, @237, opti3_x_1), @239=@238{0}, @240=@238{1}, @241=pop_step(@239, @240, opti3_x_1), @242=@241{0}, @243=@241{1}, @244=pop_step(@242, @243, opti3_x_1), @245=@244{0}, @246=@244{1}, @247=pop_step(@245, @246, opti3_x_1), @248=@247{0}, @249=@247{1}, @250=pop_step(@248, @249, opti3_x_1), @251=@250{0}, @252=@250{1}, @253=pop_step(@251, @252, opti3_x_1), @254=@253{0}, @255=@253{1}, @256=pop_step(@254, @255, opti3_x_1), @257=@256{0}, @258=@256{1}, @259=pop_step(@257, @258, opti3_x_1), @260=@259{0}, @261=@259{1}, @262=pop_step(@260, @261, opti3_x_1), @263=@262{0}, @264=@262{1}, @265=pop_step(@263, @264, opti3_x_1), @266=@265{0}, @267=@265{1}, @268=pop_step(@266, @267, opti3_x_1), @269=@268{0}, @270=@268{1}, @271=pop_step(@269, @270, opti3_x_1), @272=@271{0}, @273=@271{1}, @274=pop_step(@272, @273, opti3_x_1), @275=@274{0}, @276=@274{1}, @277=pop_step(@275, @276, opti3_x_1), @278=@277{0}, @279=@277{1}, @280=pop_step(@278, @279, opti3_x_1), @281=@280{0}, @282=@280{1}, @283=pop_step(@281, @282, opti3_x_1), @284=@283{0}, @285=@283{1}, @286=pop_step(@284, @285, opti3_x_1), @287=@286{0}, @288=@286{1}, @289=pop_step(@287, @288, opti3_x_1), @290=@289{0}, @291=@289{1}, @292=pop_step(@290, @291, opti3_x_1), @293=@292{0}, @294=@292{1}, @295=pop_step(@293, @294, opti3_x_1), @296=@295{0}, @297=@295{1}, @298=pop_step(@296, @297, opti3_x_1), ((((((((((((((((((((((((((((((((((((((((((((((((((((((((((((((((((((((((((((((((((((((((((((((((((((sq((@2-10.6667))+sq((@3-0.10989)))+(sq((@5-11.2354))+sq((@6-0.12221))))+(sq((@8-11.7019))+sq((@9-0.137283))))+(sq((@11-12.067))+sq((@12-0.15547))))+(sq((@14-12.335))+sq((@15-0.177169))))+(sq((@17-12.5117))+sq((@18-0.2028))))+(sq((@20-12.6039))+sq((@21-0.232796))))+(sq((@23-12.6176))+sq((@24-0.267576))))+(sq((@26-12.5585))+sq((@27-0.307519))))+(sq((@29-12.4313))+sq((@30-0.352921))))+(sq((@32-12.24))+sq((@33-0.403948))))+(sq((@35-11.9884))+sq((@36-0.46058))))+(sq((@38-11.6801))+sq((@39-0.522547))))+(sq((@41-11.3192))+sq((@42-0.589281))))+(sq((@44-10.9109))+sq((@45-0.659869))))+(sq((@47-10.4614))+sq((@48-0.73304))))+(sq((@50-9.97832))+sq((@51-0.807191))))+(sq((@53-9.47087))+sq((@54-0.880453))))+(sq((@56-8.94925))+sq((@57-0.950809))))+(sq((@59-8.42438))+sq((@60-1.01625))))+(sq((@62-7.90718))+sq((@63-1.07492))))+(sq((@65-7.4079))+sq((@66-1.12533))))+(sq((@68-6.93547))+sq((@69-1.16639))))+(sq((@71-6.49701))+sq((@72-1.19758))))+(sq((@74-6.09765))+sq((@75-1.21884))))+(sq((@77-5.74047))+sq((@78-1.23059))))+(sq((@80-5.42674))+sq((@81-1.23364))))+(sq((@83-5.15621))+sq((@84-1.229))))+(sq((@86-4.92752))+sq((@87-1.21788))))+(sq((@89-4.73857))+sq((@90-1.20148))))+(sq((@92-4.58678))+sq((@93-1.18101))))+(sq((@95-4.46941))+sq((@96-1.15758))))+(sq((@98-4.38365))+sq((@99-1.13219))))+(sq((@101-4.32678))+sq((@102-1.10571))))+(sq((@104-4.29621))+sq((@105-1.07889))))+(sq((@107-4.28947))+sq((@108-1.05235))))+(sq((@110-4.30425))+sq((@111-1.0266))))+(sq((@113-4.33831))+sq((@114-1.00202))))+(sq((@116-4.38953))+sq((@117-0.978954))))+(sq((@119-4.45578))+sq((@120-0.957626))))+(sq((@122-4.53498))+sq((@123-0.938219))))+(sq((@125-4.62503))+sq((@126-0.920853))))+(sq((@128-4.72379))+sq((@129-0.905608))))+(sq((@131-4.82911))+sq((@132-0.892522))))+(sq((@134-4.93882))+sq((@135-0.881603))))+(sq((@137-5.05076))+sq((@138-0.87283))))+(sq((@140-5.16278))+sq((@141-0.866156))))+(sq((@143-5.27281))+sq((@144-0.861514))))+(sq((@146-5.37889))+sq((@147-0.858815))))+(sq((@149-5.47922))+sq((@150-0.857955))))+(sq((@152-5.57218))+sq((@153-0.85881))))+(sq((@155-5.65638))+sq((@156-0.861241))))+(sq((@158-5.73069))+sq((@159-0.865097))))+(sq((@161-5.79427))+sq((@162-0.870211))))+(sq((@164-5.84657))+sq((@165-0.876408))))+(sq((@167-5.88734))+sq((@168-0.883504))))+(sq((@170-5.91658))+sq((@171-0.891309))))+(sq((@173-5.9346))+sq((@174-0.899629))))+(sq((@176-5.94194))+sq((@177-0.908274))))+(sq((@179-5.93931))+sq((@180-0.917055))))+(sq((@182-5.92765))+sq((@183-0.925793))))+(sq((@185-5.90798))+sq((@186-0.93432))))+(sq((@188-5.88144))+sq((@189-0.942481))))+(sq((@191-5.84921))+sq((@192-0.950141))))+(sq((@194-5.81248))+sq((@195-0.957183))))+(sq((@197-5.77246))+sq((@198-0.963515))))+(sq((@200-5.73027))+sq((@201-0.969063))))+(sq((@203-5.68699))+sq((@204-0.97378))))+(sq((@206-5.64361))+sq((@207-0.97764))))+(sq((@209-5.60101))+sq((@210-0.980637))))+(sq((@212-5.55997))+sq((@213-0.982787))))+(sq((@215-5.52116))+sq((@216-0.984122))))+(sq((@218-5.48513))+sq((@219-0.984689))))+(sq((@221-5.4523))+sq((@222-0.984549))))+(sq((@224-5.42302))+sq((@225-0.983769))))+(sq((@227-5.39751))+sq((@228-0.982427))))+(sq((@230-5.3759))+sq((@231-0.980604))))+(sq((@233-5.35824))+sq((@234-0.978382))))+(sq((@236-5.34449))+sq((@237-0.975845))))+(sq((@239-5.33455))+sq((@240-0.973073))))+(sq((@242-5.32826))+sq((@243-0.970143))))+(sq((@245-5.3254))+sq((@246-0.96713))))+(sq((@248-5.32572))+sq((@249-0.9641))))+(sq((@251-5.32892))+sq((@252-0.961114))))+(sq((@254-5.33469))+sq((@255-0.958227))))+(sq((@257-5.3427))+sq((@258-0.955486))))+(sq((@260-5.35259))+sq((@261-0.952929))))+(sq((@263-5.36401))+sq((@264-0.950591))))+(sq((@266-5.37661))+sq((@267-0.948495))))+(sq((@269-5.39005))+sq((@270-0.94666))))+(sq((@272-5.404))+sq((@273-0.945098))))+(sq((@275-5.41815))+sq((@276-0.943815))))+(sq((@278-5.4322))+sq((@279-0.942809))))+(sq((@281-5.44589))+sq((@282-0.942077))))+(sq((@284-5.45899))+sq((@285-0.941608))))+(sq((@287-5.47128))+sq((@288-0.941387))))+(sq((@290-5.48261))+sq((@291-0.941398))))+(sq((@293-5.49283))+sq((@294-0.94162))))+(sq((@296-5.50183))+sq((@297-0.942031))))+(sq((@298{0}-5.50955))+sq((@298{1}-0.942606)))))"
      ]
     },
     "execution_count": 167,
     "metadata": {},
     "output_type": "execute_result"
    }
   ],
   "source": [
    "tot_error"
   ]
  },
  {
   "cell_type": "code",
   "execution_count": 168,
   "metadata": {},
   "outputs": [],
   "source": [
    "opti.minimize(tot_error)"
   ]
  },
  {
   "cell_type": "code",
   "execution_count": 169,
   "metadata": {},
   "outputs": [],
   "source": [
    "opti.solver('ipopt')"
   ]
  },
  {
   "cell_type": "code",
   "execution_count": 170,
   "metadata": {},
   "outputs": [
    {
     "name": "stdout",
     "output_type": "stream",
     "text": [
      "This is Ipopt version 3.12.3, running with linear solver mumps.\n",
      "NOTE: Other linear solvers might be more efficient (see Ipopt documentation).\n",
      "\n",
      "Number of nonzeros in equality constraint Jacobian...:        0\n",
      "Number of nonzeros in inequality constraint Jacobian.:        0\n",
      "Number of nonzeros in Lagrangian Hessian.............:       21\n",
      "\n",
      "Total number of variables............................:        6\n",
      "                     variables with only lower bounds:        0\n",
      "                variables with lower and upper bounds:        0\n",
      "                     variables with only upper bounds:        0\n",
      "Total number of equality constraints.................:        0\n",
      "Total number of inequality constraints...............:        0\n",
      "        inequality constraints with only lower bounds:        0\n",
      "   inequality constraints with lower and upper bounds:        0\n",
      "        inequality constraints with only upper bounds:        0\n",
      "\n",
      "iter    objective    inf_pr   inf_du lg(mu)  ||d||  lg(rg) alpha_du alpha_pr  ls\n",
      "   0  2.1360947e+03 0.00e+00 1.00e+02  -1.0 0.00e+00    -  0.00e+00 0.00e+00   0\n",
      "   1  1.4121086e+03 0.00e+00 6.05e+02  -1.0 3.17e-02   4.0 1.00e+00 5.00e-01f  2\n",
      "   2  5.5125082e+02 0.00e+00 2.18e+02  -1.0 1.90e-03   3.5 1.00e+00 1.00e+00f  1\n",
      "   3  1.9195955e+02 0.00e+00 7.04e+01  -1.0 6.09e-03   3.0 1.00e+00 1.00e+00f  1\n",
      "   4  6.3988086e+01 0.00e+00 1.89e+01  -1.0 6.89e-03   2.6 1.00e+00 1.00e+00f  1\n",
      "   5  2.4812592e+01 0.00e+00 3.59e+00  -1.0 6.47e-03   2.1 1.00e+00 1.00e+00f  1\n",
      "   6  1.5144912e+01 0.00e+00 4.29e-01  -1.0 5.40e-03   1.6 1.00e+00 1.00e+00f  1\n",
      "   7  1.1417494e+01 0.00e+00 3.53e-01  -1.7 8.52e-03   1.1 1.00e+00 1.00e+00f  1\n",
      "   8  7.2163820e+00 0.00e+00 1.84e+00  -1.7 1.80e-02   0.7 1.00e+00 1.00e+00f  1\n",
      "   9  2.1101231e+00 0.00e+00 2.86e+00  -1.7 3.65e-02   0.2 1.00e+00 1.00e+00f  1\n",
      "iter    objective    inf_pr   inf_du lg(mu)  ||d||  lg(rg) alpha_du alpha_pr  ls\n",
      "  10  2.9715945e-01 0.00e+00 4.57e-01  -1.7 3.08e-02  -0.3 1.00e+00 1.00e+00f  1\n",
      "  11  2.8635344e-02 0.00e+00 2.81e-01  -1.7 4.15e-02    -  1.00e+00 1.00e+00f  1\n",
      "  12  3.3934841e-05 0.00e+00 8.44e-03  -1.7 1.10e-03    -  1.00e+00 1.00e+00f  1\n",
      "  13  6.6129692e-10 0.00e+00 3.97e-05  -3.8 2.89e-04    -  1.00e+00 1.00e+00f  1\n",
      "  14  2.5108315e-19 0.00e+00 3.98e-10  -5.7 1.02e-06    -  1.00e+00 1.00e+00f  1\n",
      "\n",
      "Number of Iterations....: 14\n",
      "\n",
      "                                   (scaled)                 (unscaled)\n",
      "Objective...............:   2.4124449876044143e-22    2.5108314673812489e-19\n",
      "Dual infeasibility......:   3.9752567215111334e-10    4.1373791811105371e-07\n",
      "Constraint violation....:   0.0000000000000000e+00    0.0000000000000000e+00\n",
      "Complementarity.........:   0.0000000000000000e+00    0.0000000000000000e+00\n",
      "Overall NLP error.......:   3.9752567215111334e-10    4.1373791811105371e-07\n",
      "\n",
      "\n",
      "Number of objective function evaluations             = 20\n",
      "Number of objective gradient evaluations             = 15\n",
      "Number of equality constraint evaluations            = 0\n",
      "Number of inequality constraint evaluations          = 0\n",
      "Number of equality constraint Jacobian evaluations   = 0\n",
      "Number of inequality constraint Jacobian evaluations = 0\n",
      "Number of Lagrangian Hessian evaluations             = 14\n",
      "Total CPU secs in IPOPT (w/o function evaluations)   =      0.016\n",
      "Total CPU secs in NLP function evaluations           =      0.081\n",
      "\n",
      "EXIT: Optimal Solution Found.\n",
      "      solver  :   t_proc      (avg)   t_wall      (avg)    n_eval\n",
      "       nlp_f  |   4.71ms (235.45us)   4.70ms (235.17us)        20\n",
      "  nlp_grad_f  |   9.94ms (621.06us)   9.95ms (621.87us)        16\n",
      "  nlp_hess_l  |  78.65ms (  5.62ms)  78.25ms (  5.59ms)        14\n",
      "       total  | 114.23ms (114.23ms) 170.58ms (170.58ms)         1\n"
     ]
    }
   ],
   "source": [
    "sol = opti.solve()"
   ]
  },
  {
   "cell_type": "code",
   "execution_count": 171,
   "metadata": {},
   "outputs": [
    {
     "data": {
      "text/plain": [
       "OptiSol(Opti {\n",
       "  instance #3\n",
       "  #variables: 1 (nx = 6)\n",
       "  #parameters: 0 (np = 0)\n",
       "  #constraints: 0 (ng = 0)\n",
       "  CasADi solver allocated.\n",
       "  CasADi solver was called: Solve_Succeeded\n",
       "})"
      ]
     },
     "execution_count": 171,
     "metadata": {},
     "output_type": "execute_result"
    }
   ],
   "source": [
    "sol"
   ]
  },
  {
   "cell_type": "code",
   "execution_count": 173,
   "metadata": {},
   "outputs": [
    {
     "data": {
      "text/plain": [
       "array([1.3 , 0.9 , 0.2 , 0.02, 0.02, 0.01])"
      ]
     },
     "execution_count": 173,
     "metadata": {},
     "output_type": "execute_result"
    }
   ],
   "source": [
    "sol.value(p)"
   ]
  },
  {
   "cell_type": "code",
   "execution_count": 174,
   "metadata": {},
   "outputs": [
    {
     "data": {
      "text/plain": [
       "[<matplotlib.lines.Line2D at 0x7f212b88eb00>]"
      ]
     },
     "execution_count": 174,
     "metadata": {},
     "output_type": "execute_result"
    },
    {
     "data": {
      "image/png": "[encoded data removed]",
      "text/plain": [
       "<Figure size 432x288 with 1 Axes>"
      ]
     },
     "metadata": {
      "needs_background": "light"
     },
     "output_type": "display_data"
    }
   ],
   "source": [
    "plt.plot(data_mat[:,0], data_mat[:,1])"
   ]
  },
  {
   "cell_type": "code",
   "execution_count": 183,
   "metadata": {},
   "outputs": [],
   "source": [
    "x_curr = x_0\n",
    "y_curr = y_0\n",
    "F = []\n",
    "for i in range(100):\n",
    "    x_curr, y_curr = pop_step(x_curr, y_curr, p)\n",
    "    x_obj, y_obj = data_mat[i+1, :]\n",
    "    err_x = (x_curr - x_obj)**2\n",
    "    err_y = (y_curr - y_obj)**2\n",
    "    F = F+ [err_x, err_y,]"
   ]
  },
  {
   "cell_type": "code",
   "execution_count": 186,
   "metadata": {},
   "outputs": [],
   "source": [
    "F = vcat(F)"
   ]
  },
  {
   "cell_type": "code",
   "execution_count": 187,
   "metadata": {},
   "outputs": [],
   "source": [
    "opti.minimize(F.T@F)"
   ]
  },
  {
   "cell_type": "code",
   "execution_count": 190,
   "metadata": {},
   "outputs": [],
   "source": [
    "opti.set_initial(p, p_est)"
   ]
  },
  {
   "cell_type": "code",
   "execution_count": 191,
   "metadata": {},
   "outputs": [
    {
     "name": "stdout",
     "output_type": "stream",
     "text": [
      "This is Ipopt version 3.12.3, running with linear solver mumps.\n",
      "NOTE: Other linear solvers might be more efficient (see Ipopt documentation).\n",
      "\n",
      "Number of nonzeros in equality constraint Jacobian...:        0\n",
      "Number of nonzeros in inequality constraint Jacobian.:        0\n",
      "Number of nonzeros in Lagrangian Hessian.............:       21\n",
      "\n",
      "Total number of variables............................:        6\n",
      "                     variables with only lower bounds:        0\n",
      "                variables with lower and upper bounds:        0\n",
      "                     variables with only upper bounds:        0\n",
      "Total number of equality constraints.................:        0\n",
      "Total number of inequality constraints...............:        0\n",
      "        inequality constraints with only lower bounds:        0\n",
      "   inequality constraints with lower and upper bounds:        0\n",
      "        inequality constraints with only upper bounds:        0\n",
      "\n",
      "iter    objective    inf_pr   inf_du lg(mu)  ||d||  lg(rg) alpha_du alpha_pr  ls\n",
      "   0  5.9387849e+04 0.00e+00 1.00e+02  -1.0 0.00e+00    -  0.00e+00 0.00e+00   0\n",
      "Warning: Cutting back alpha due to evaluation error\n",
      "   1  1.7452327e+04 0.00e+00 5.13e+01  -1.0 8.09e-01   2.0 1.00e+00 6.25e-02f  5\n",
      "   2  4.9457332e+03 0.00e+00 1.78e+01  -1.0 7.34e-03   2.4 1.00e+00 1.00e+00f  1\n",
      "   3  1.7220834e+03 0.00e+00 6.14e+00  -1.0 4.08e-03   1.9 1.00e+00 1.00e+00f  1\n",
      "   4  5.8069036e+02 0.00e+00 2.10e+00  -1.0 4.32e-03   1.5 1.00e+00 1.00e+00f  1\n",
      "   5  1.9008664e+02 0.00e+00 7.06e-01  -1.0 4.50e-03   1.0 1.00e+00 1.00e+00f  1\n",
      "   6  6.0511882e+01 0.00e+00 2.32e-01  -1.7 4.65e-03   0.5 1.00e+00 1.00e+00f  1\n",
      "   7  1.8941269e+01 0.00e+00 7.40e-02  -1.7 4.85e-03   0.0 1.00e+00 1.00e+00f  1\n",
      "   8  5.9615050e+00 0.00e+00 2.28e-02  -2.5 5.21e-03  -0.4 1.00e+00 1.00e+00f  1\n",
      "   9  1.9360569e+00 0.00e+00 6.75e-03  -3.8 5.86e-03  -0.9 1.00e+00 1.00e+00f  1\n",
      "iter    objective    inf_pr   inf_du lg(mu)  ||d||  lg(rg) alpha_du alpha_pr  ls\n",
      "  10  6.5248885e-01 0.00e+00 1.97e-03  -3.8 6.97e-03  -1.4 1.00e+00 1.00e+00f  1\n",
      "  11  2.2189297e-01 0.00e+00 1.44e-03  -3.8 8.12e-03  -1.9 1.00e+00 1.00e+00f  1\n",
      "  12  1.8607156e-01 0.00e+00 6.67e-03  -5.7 1.86e-01    -  1.00e+00 1.25e-01f  4\n",
      "  13  4.9164004e-02 0.00e+00 3.10e-03  -5.7 3.39e-02    -  1.00e+00 1.00e+00f  1\n",
      "  14  1.3808579e-02 0.00e+00 1.32e-03  -5.7 2.06e-02    -  1.00e+00 1.00e+00f  1\n",
      "  15  3.7983354e-03 0.00e+00 5.33e-04  -5.7 1.46e-02    -  1.00e+00 1.00e+00f  1\n",
      "  16  1.0043227e-03 0.00e+00 2.03e-04  -5.7 1.05e-02    -  1.00e+00 1.00e+00f  1\n",
      "  17  2.5302507e-04 0.00e+00 7.32e-05  -5.7 7.82e-03    -  1.00e+00 1.00e+00f  1\n",
      "  18  6.0734063e-05 0.00e+00 2.51e-05  -5.7 5.60e-03    -  1.00e+00 1.00e+00f  1\n",
      "  19  1.4228892e-05 0.00e+00 8.55e-06  -5.7 4.84e-03    -  1.00e+00 1.00e+00f  1\n",
      "iter    objective    inf_pr   inf_du lg(mu)  ||d||  lg(rg) alpha_du alpha_pr  ls\n",
      "  20  3.2119034e-06 0.00e+00 2.83e-06  -8.6 3.66e-03    -  1.00e+00 1.00e+00f  1\n",
      "  21  6.9978653e-07 0.00e+00 9.06e-07  -8.6 2.58e-03    -  1.00e+00 1.00e+00f  1\n",
      "  22  1.4823090e-07 0.00e+00 2.84e-07  -8.6 1.78e-03    -  1.00e+00 1.00e+00f  1\n",
      "  23  3.0743628e-08 0.00e+00 8.75e-08  -8.6 1.22e-03    -  1.00e+00 1.00e+00f  1\n"
     ]
    },
    {
     "name": "stderr",
     "output_type": "stream",
     "text": [
      "CasADi - 2019-11-19 12:18:59 WARNING(\"solver:nlp_f failed: Inf detected for output f, at (row 0, col 0).\") [.../casadi/core/oracle_function.cpp:265]\n"
     ]
    },
    {
     "name": "stdout",
     "output_type": "stream",
     "text": [
      "  24  6.2800946e-09 0.00e+00 2.66e-08  -8.6 8.24e-04    -  1.00e+00 1.00e+00f  1\n",
      "  25  1.2692028e-09 0.00e+00 8.04e-09  -8.6 5.56e-04    -  1.00e+00 1.00e+00f  1\n",
      "\n",
      "Number of Iterations....: 25\n",
      "\n",
      "                                   (scaled)                 (unscaled)\n",
      "Objective...............:   1.7057356894245353e-14    1.2692027726891919e-09\n",
      "Dual infeasibility......:   8.0359320893995942e-09    5.9793714537619447e-04\n",
      "Constraint violation....:   0.0000000000000000e+00    0.0000000000000000e+00\n",
      "Complementarity.........:   0.0000000000000000e+00    0.0000000000000000e+00\n",
      "Overall NLP error.......:   8.0359320893995942e-09    5.9793714537619447e-04\n",
      "\n",
      "\n",
      "Number of objective function evaluations             = 37\n",
      "Number of objective gradient evaluations             = 26\n",
      "Number of equality constraint evaluations            = 0\n",
      "Number of inequality constraint evaluations          = 0\n",
      "Number of equality constraint Jacobian evaluations   = 0\n",
      "Number of inequality constraint Jacobian evaluations = 0\n",
      "Number of Lagrangian Hessian evaluations             = 25\n",
      "Total CPU secs in IPOPT (w/o function evaluations)   =      0.032\n",
      "Total CPU secs in NLP function evaluations           =      0.186\n",
      "\n",
      "EXIT: Optimal Solution Found.\n",
      "      solver  :   t_proc      (avg)   t_wall      (avg)    n_eval\n",
      "       nlp_f  |  13.52ms (365.27us)  12.50ms (337.72us)        37\n",
      "  nlp_grad_f  |  17.95ms (664.70us)  17.93ms (664.01us)        27\n",
      "  nlp_hess_l  | 162.14ms (  6.49ms) 161.56ms (  6.46ms)        25\n",
      "       total  | 227.29ms (227.29ms) 222.81ms (222.81ms)         1\n",
      "[1.30112773 0.89961358 0.20088403 0.02000313 0.02008213 0.00961177]\n"
     ]
    }
   ],
   "source": [
    "sol = opti.solve()\n",
    "print(sol.value(p))"
   ]
  },
  {
   "cell_type": "code",
   "execution_count": 192,
   "metadata": {},
   "outputs": [
    {
     "data": {
      "text/plain": [
       "array([1.30112773, 0.89961358, 0.20088403, 0.02000313, 0.02008213,\n",
       "       0.00961177])"
      ]
     },
     "execution_count": 192,
     "metadata": {},
     "output_type": "execute_result"
    }
   ],
   "source": [
    "sol.value(p)"
   ]
  },
  {
   "cell_type": "code",
   "execution_count": 196,
   "metadata": {},
   "outputs": [
    {
     "name": "stdout",
     "output_type": "stream",
     "text": [
      "This is Ipopt version 3.12.3, running with linear solver mumps.\n",
      "NOTE: Other linear solvers might be more efficient (see Ipopt documentation).\n",
      "\n",
      "Number of nonzeros in equality constraint Jacobian...:        0\n",
      "Number of nonzeros in inequality constraint Jacobian.:        0\n",
      "Number of nonzeros in Lagrangian Hessian.............:       21\n",
      "\n",
      "Total number of variables............................:        6\n",
      "                     variables with only lower bounds:        0\n",
      "                variables with lower and upper bounds:        0\n",
      "                     variables with only upper bounds:        0\n",
      "Total number of equality constraints.................:        0\n",
      "Total number of inequality constraints...............:        0\n",
      "        inequality constraints with only lower bounds:        0\n",
      "   inequality constraints with lower and upper bounds:        0\n",
      "        inequality constraints with only upper bounds:        0\n",
      "\n",
      "iter    objective    inf_pr   inf_du lg(mu)  ||d||  lg(rg) alpha_du alpha_pr  ls\n",
      "   0  7.0082020e+02 0.00e+00 1.00e+02  -1.0 0.00e+00    -  0.00e+00 0.00e+00   0\n",
      "   1  7.3366301e+01 0.00e+00 1.57e+01  -1.0 7.00e-01    -  1.00e+00 5.00e-01f  2\n",
      "   2  3.3112908e+01 0.00e+00 1.90e+01  -1.0 2.34e-01    -  1.00e+00 5.00e-01f  2\n",
      "   3  2.4474049e+00 0.00e+00 1.19e+01  -1.0 1.40e-01    -  1.00e+00 1.00e+00f  1\n",
      "   4  1.7410367e+00 0.00e+00 1.06e+01  -1.0 2.55e-01    -  1.00e+00 5.00e-01f  2\n",
      "   5  1.5389181e+00 0.00e+00 9.92e+00  -1.0 2.50e-01    -  1.00e+00 5.00e-01f  2\n",
      "   6  8.3359563e-01 0.00e+00 5.43e+00  -1.0 1.65e-01    -  1.00e+00 1.00e+00f  1\n",
      "   7  2.6089512e-01 0.00e+00 1.39e-03  -1.0 1.08e-02    -  1.00e+00 1.00e+00f  1\n",
      "   8  2.6087938e-01 0.00e+00 2.50e-03  -5.7 6.03e-03    -  1.00e+00 1.00e+00f  1\n",
      "   9  2.6087919e-01 0.00e+00 1.54e-05  -5.7 3.12e-04    -  1.00e+00 1.00e+00f  1\n",
      "iter    objective    inf_pr   inf_du lg(mu)  ||d||  lg(rg) alpha_du alpha_pr  ls\n",
      "  10  2.6087919e-01 0.00e+00 1.08e-06  -8.6 2.65e-05    -  1.00e+00 1.00e+00f  1\n",
      "  11  2.6087919e-01 0.00e+00 7.97e-08  -8.6 1.97e-06    -  1.00e+00 1.00e+00f  1\n",
      "  12  2.6087919e-01 0.00e+00 6.15e-09  -8.6 1.51e-07    -  1.00e+00 1.00e+00f  1\n",
      "\n",
      "Number of Iterations....: 12\n",
      "\n",
      "                                   (scaled)                 (unscaled)\n",
      "Objective...............:   3.7559757331766014e-04    2.6087918875283256e-01\n",
      "Dual infeasibility......:   6.1475108886535357e-09    4.2698828943837919e-06\n",
      "Constraint violation....:   0.0000000000000000e+00    0.0000000000000000e+00\n",
      "Complementarity.........:   0.0000000000000000e+00    0.0000000000000000e+00\n",
      "Overall NLP error.......:   6.1475108886535357e-09    4.2698828943837919e-06\n",
      "\n",
      "\n",
      "Number of objective function evaluations             = 33\n",
      "Number of objective gradient evaluations             = 13\n",
      "Number of equality constraint evaluations            = 0\n",
      "Number of inequality constraint evaluations          = 0\n",
      "Number of equality constraint Jacobian evaluations   = 0\n",
      "Number of inequality constraint Jacobian evaluations = 0\n",
      "Number of Lagrangian Hessian evaluations             = 12\n",
      "Total CPU secs in IPOPT (w/o function evaluations)   =      0.012\n",
      "Total CPU secs in NLP function evaluations           =      0.007\n",
      "\n",
      "EXIT: Optimal Solution Found.\n",
      "      solver  :   t_proc      (avg)   t_wall      (avg)    n_eval\n",
      "       nlp_f  |   1.62ms ( 49.24us)   1.62ms ( 49.22us)        33\n",
      "  nlp_grad_f  |   1.58ms (113.00us)   1.58ms (112.59us)        14\n",
      "  nlp_hess_l  |   3.19ms (266.25us)   3.20ms (266.96us)        12\n",
      "       total  |  19.64ms ( 19.64ms)  18.56ms ( 18.56ms)         1\n",
      "[ 1.25543657e+00  1.16255084e+00  2.03428594e-01 -7.31937416e-05\n",
      "  1.59748240e-02  9.43508830e-02]\n"
     ]
    }
   ],
   "source": [
    "opti = Opti()\n",
    " \n",
    "a = opti.variable()\n",
    "b = opti.variable()\n",
    "alpha = opti.variable()\n",
    "beta = opti.variable()\n",
    " \n",
    "gamma = opti.variable()\n",
    "delta = opti.variable()\n",
    " \n",
    "p = vertcat(a,b,alpha,beta,gamma,delta)\n",
    " \n",
    "x = 10\n",
    "y = 0.1\n",
    " \n",
    "F = []\n",
    " \n",
    "for i in range(N):\n",
    "    F.append(vertcat(x-data_mat[i,0],y-data_mat[i,1]))\n",
    "    x_next = (a*x-alpha*x*y)/(1+gamma*x)\n",
    "    y_next = (b*y+beta*x*y)/(1+delta*y)\n",
    " \n",
    "    x = x_next\n",
    "    y = y_next\n",
    " \n",
    "F.append(vertcat(x-data_mat[100,0],y-data_mat[100,1]))\n",
    " \n",
    "F = vcat(F)\n",
    " \n",
    "opti.minimize(F.T @ F)\n",
    " \n",
    "J = jacobian(F,p)\n",
    " \n",
    "H = 2*J.T @ J # Factor two to be consistent with missing 0.5 in objective.\n",
    " \n",
    "sigma = MX.sym('sigma')\n",
    "opts = dict()\n",
    "opts[\"hess_lag\"] = Function('hess_lag',[opti.x,opti.p,sigma,opti.lam_g], [sigma*triu(H)])\n",
    "opti.solver('ipopt',opts)\n",
    " \n",
    "opti.set_initial(p,p_est)\n",
    " \n",
    "sol = opti.solve()\n",
    " \n",
    "print(sol.value(p)) #   [1.3; 0.9; 0.2; 0.02; 0.02; 0.01]"
   ]
  },
  {
   "cell_type": "markdown",
   "metadata": {},
   "source": [
    "## Optimal Control"
   ]
  },
  {
   "cell_type": "code",
   "execution_count": 38,
   "metadata": {},
   "outputs": [],
   "source": [
    "opti = Opti()"
   ]
  },
  {
   "cell_type": "code",
   "execution_count": 39,
   "metadata": {},
   "outputs": [],
   "source": [
    "N = 4"
   ]
  },
  {
   "cell_type": "code",
   "execution_count": 40,
   "metadata": {},
   "outputs": [],
   "source": [
    "X = opti.variable(N+1)\n",
    "U = opti.variable(N)"
   ]
  },
  {
   "cell_type": "code",
   "execution_count": 41,
   "metadata": {},
   "outputs": [],
   "source": [
    "F = lambda x, u : x**2+u"
   ]
  },
  {
   "cell_type": "code",
   "execution_count": 42,
   "metadata": {},
   "outputs": [],
   "source": [
    "objective = sum1(X**2) + sum1(U**2)"
   ]
  },
  {
   "cell_type": "code",
   "execution_count": 43,
   "metadata": {},
   "outputs": [],
   "source": [
    "opti.minimize(objective)"
   ]
  },
  {
   "cell_type": "code",
   "execution_count": 44,
   "metadata": {},
   "outputs": [],
   "source": [
    "opti.solver('ipopt')"
   ]
  },
  {
   "cell_type": "code",
   "execution_count": 45,
   "metadata": {},
   "outputs": [],
   "source": [
    "opti.subject_to(X[0] == 2)\n",
    "opti.subject_to(X[-1] == 3)\n",
    "opti.subject_to(X >= 0)"
   ]
  },
  {
   "cell_type": "code",
   "execution_count": 46,
   "metadata": {},
   "outputs": [],
   "source": [
    "for i in range(N):\n",
    "    opti.subject_to(X[i+1] == F(X[i], U[i]))"
   ]
  },
  {
   "cell_type": "code",
   "execution_count": 47,
   "metadata": {},
   "outputs": [
    {
     "name": "stdout",
     "output_type": "stream",
     "text": [
      "This is Ipopt version 3.12.3, running with linear solver mumps.\n",
      "NOTE: Other linear solvers might be more efficient (see Ipopt documentation).\n",
      "\n",
      "Number of nonzeros in equality constraint Jacobian...:       14\n",
      "Number of nonzeros in inequality constraint Jacobian.:        5\n",
      "Number of nonzeros in Lagrangian Hessian.............:        9\n",
      "\n",
      "Total number of variables............................:        9\n",
      "                     variables with only lower bounds:        0\n",
      "                variables with lower and upper bounds:        0\n",
      "                     variables with only upper bounds:        0\n",
      "Total number of equality constraints.................:        6\n",
      "Total number of inequality constraints...............:        5\n",
      "        inequality constraints with only lower bounds:        5\n",
      "   inequality constraints with lower and upper bounds:        0\n",
      "        inequality constraints with only upper bounds:        0\n",
      "\n",
      "iter    objective    inf_pr   inf_du lg(mu)  ||d||  lg(rg) alpha_du alpha_pr  ls\n",
      "   0  0.0000000e+00 3.00e+00 3.33e-01  -1.0 0.00e+00    -  0.00e+00 0.00e+00   0\n",
      "   1  2.2067702e+01 4.00e+00 2.89e+02  -1.0 3.00e+00    -  3.41e-03 1.00e+00h  1\n",
      "   2  3.4960379e+01 1.48e+00 1.05e+01  -1.0 3.34e+00    -  8.57e-02 1.00e+00h  1\n",
      "   3  2.8119843e+01 2.07e+00 5.70e+00  -1.0 2.50e+00    -  1.36e-01 1.00e+00f  1\n",
      "   4  2.6498402e+01 2.60e-01 1.10e+00  -1.0 5.42e-01    -  1.00e+00 1.00e+00f  1\n",
      "   5  2.6404428e+01 5.61e-04 9.93e-03  -1.0 2.72e-01    -  1.00e+00 1.00e+00h  1\n",
      "   6  2.6403967e+01 1.26e-04 9.11e-04  -2.5 2.03e-02    -  1.00e+00 1.00e+00h  1\n",
      "   7  2.6403913e+01 2.81e-07 1.82e-06  -3.8 8.59e-04    -  1.00e+00 1.00e+00h  1\n",
      "   8  2.6403913e+01 2.90e-10 2.06e-09  -5.7 3.02e-05    -  1.00e+00 1.00e+00h  1\n",
      "   9  2.6403913e+01 4.29e-14 3.04e-13  -8.6 3.68e-07    -  1.00e+00 1.00e+00h  1\n",
      "\n",
      "Number of Iterations....: 9\n",
      "\n",
      "                                   (scaled)                 (unscaled)\n",
      "Objective...............:   2.6403912716984614e+01    2.6403912716984614e+01\n",
      "Dual infeasibility......:   3.0375701953744283e-13    3.0375701953744283e-13\n",
      "Constraint violation....:   4.2854608750531042e-14    4.2854608750531042e-14\n",
      "Complementarity.........:   2.5062383758406704e-09    2.5062383758406704e-09\n",
      "Overall NLP error.......:   2.5062383758406704e-09    2.5062383758406704e-09\n",
      "\n",
      "\n",
      "Number of objective function evaluations             = 10\n",
      "Number of objective gradient evaluations             = 10\n",
      "Number of equality constraint evaluations            = 10\n",
      "Number of inequality constraint evaluations          = 10\n",
      "Number of equality constraint Jacobian evaluations   = 10\n",
      "Number of inequality constraint Jacobian evaluations = 10\n",
      "Number of Lagrangian Hessian evaluations             = 9\n",
      "Total CPU secs in IPOPT (w/o function evaluations)   =      0.010\n",
      "Total CPU secs in NLP function evaluations           =      0.001\n",
      "\n",
      "EXIT: Optimal Solution Found.\n",
      "      solver  :   t_proc      (avg)   t_wall      (avg)    n_eval\n",
      "       nlp_f  |  67.00us (  6.70us)  66.43us (  6.64us)        10\n",
      "       nlp_g  | 121.00us ( 12.10us) 113.76us ( 11.38us)        10\n",
      "  nlp_grad_f  |  86.00us (  7.82us)  81.18us (  7.38us)        11\n",
      "  nlp_hess_l  | 100.00us ( 11.11us)  99.19us ( 11.02us)         9\n",
      "   nlp_jac_g  | 408.00us ( 37.09us) 183.33us ( 16.67us)        11\n",
      "       total  |  12.48ms ( 12.48ms)  12.42ms ( 12.42ms)         1\n"
     ]
    }
   ],
   "source": [
    "sol = opti.solve()"
   ]
  },
  {
   "cell_type": "code",
   "execution_count": 48,
   "metadata": {},
   "outputs": [
    {
     "data": {
      "text/plain": [
       "array([-2.70380638, -0.54297936,  0.26125189,  0.58403971])"
      ]
     },
     "execution_count": 48,
     "metadata": {},
     "output_type": "execute_result"
    }
   ],
   "source": [
    "sol.value(U)"
   ]
  },
  {
   "cell_type": "code",
   "execution_count": 49,
   "metadata": {},
   "outputs": [],
   "source": [
    "Usol_MS = sol.value(U)\n",
    "opti_MS = opti\n",
    "U_MS = U\n",
    "sol_MS = sol"
   ]
  },
  {
   "cell_type": "markdown",
   "metadata": {},
   "source": [
    "Single Shooting"
   ]
  },
  {
   "cell_type": "code",
   "execution_count": 50,
   "metadata": {},
   "outputs": [],
   "source": [
    "N = 4\n",
    "opti = Opti()\n",
    "U = opti.variable(N)\n",
    "F = lambda x, u : x**2+u"
   ]
  },
  {
   "cell_type": "code",
   "execution_count": 51,
   "metadata": {},
   "outputs": [],
   "source": [
    "opti.solver('ipopt')"
   ]
  },
  {
   "cell_type": "code",
   "execution_count": 52,
   "metadata": {},
   "outputs": [],
   "source": [
    "X = [2]\n",
    "for k in range(N):\n",
    "    X.append(F(X[-1],U[k]))\n",
    "\n",
    "X = hcat(X)"
   ]
  },
  {
   "cell_type": "code",
   "execution_count": 53,
   "metadata": {},
   "outputs": [],
   "source": [
    "opti.subject_to(X[-1] == 3)\n",
    "opti.subject_to(X[:] >= 0)"
   ]
  },
  {
   "cell_type": "code",
   "execution_count": 54,
   "metadata": {},
   "outputs": [],
   "source": [
    "objective = sum2(X**2) + sum1(U**2)"
   ]
  },
  {
   "cell_type": "code",
   "execution_count": 55,
   "metadata": {},
   "outputs": [],
   "source": [
    "opti.minimize(objective)"
   ]
  },
  {
   "cell_type": "code",
   "execution_count": 56,
   "metadata": {},
   "outputs": [
    {
     "name": "stdout",
     "output_type": "stream",
     "text": [
      "This is Ipopt version 3.12.3, running with linear solver mumps.\n",
      "NOTE: Other linear solvers might be more efficient (see Ipopt documentation).\n",
      "\n",
      "Number of nonzeros in equality constraint Jacobian...:        4\n",
      "Number of nonzeros in inequality constraint Jacobian.:       10\n",
      "Number of nonzeros in Lagrangian Hessian.............:       10\n",
      "\n",
      "Total number of variables............................:        4\n",
      "                     variables with only lower bounds:        0\n",
      "                variables with lower and upper bounds:        0\n",
      "                     variables with only upper bounds:        0\n",
      "Total number of equality constraints.................:        1\n",
      "Total number of inequality constraints...............:        5\n",
      "        inequality constraints with only lower bounds:        5\n",
      "   inequality constraints with lower and upper bounds:        0\n",
      "        inequality constraints with only upper bounds:        0\n",
      "\n",
      "iter    objective    inf_pr   inf_du lg(mu)  ||d||  lg(rg) alpha_du alpha_pr  ls\n",
      "   0  4.2950331e+09 6.55e+04 1.21e-01  -1.0 0.00e+00    -  0.00e+00 0.00e+00   0\n",
      "   1  6.5061865e+08 6.88e+03 2.51e+01  -1.0 2.48e+04    -  9.93e-01 9.90e-01f  1\n",
      "   2  1.9702488e+08 2.50e+03 1.23e+01  -1.0 1.08e+04    -  1.00e+00 9.95e-01f  1\n",
      "   3  4.9111413e+07 1.37e+03 4.89e+00  -1.0 6.94e+03    -  1.00e+00 1.00e+00f  1\n",
      "   4  1.2932739e+07 6.79e+02 1.70e+00  -1.0 3.35e+03    -  1.00e+00 1.00e+00h  1\n",
      "   5  4.4468767e+06 2.99e+02 4.84e-01  -1.0 1.45e+03    -  1.00e+00 1.00e+00h  1\n",
      "   6  1.4323328e+06 1.63e+02 2.28e-01  -1.7 9.16e+02    -  1.00e+00 1.00e+00h  1\n",
      "   7  7.1273809e+05 8.58e+01 6.90e-02  -1.7 3.66e+02    -  1.00e+00 1.00e+00h  1\n",
      "   8  6.9890886e+05 2.76e+02 1.60e-01  -1.7 7.75e+01    -  1.00e+00 1.00e+00h  1\n",
      "   9  6.6060302e+05 7.85e+01 5.00e-02  -1.7 3.19e+01    -  1.00e+00 1.00e+00h  1\n",
      "iter    objective    inf_pr   inf_du lg(mu)  ||d||  lg(rg) alpha_du alpha_pr  ls\n",
      "  10  9.2963023e+05 4.83e+02 3.76e-01  -1.7 6.80e+01    -  1.00e+00 1.00e+00h  1\n",
      "  11  7.6103509e+05 5.37e+01 7.18e-02  -1.7 3.31e+01    -  1.00e+00 1.00e+00h  1\n",
      "  12  3.7192915e+05 6.07e+01 7.01e-02  -2.5 3.19e+02    -  1.00e+00 1.00e+00h  1\n",
      "  13  2.5972276e+05 3.45e+01 2.77e-02  -2.5 1.24e+02    -  1.00e+00 1.00e+00h  1\n",
      "  14  2.1157141e+05 6.01e+01 2.78e-02  -2.5 4.47e+01    -  1.00e+00 1.00e+00h  1\n",
      "  15  1.8863579e+05 3.52e+01 1.62e-02  -2.5 2.84e+01    -  1.00e+00 1.00e+00h  1\n",
      "  16  1.7114706e+05 5.70e+01 2.40e-02  -2.5 2.93e+01    -  1.00e+00 1.00e+00h  1\n",
      "  17  1.6103830e+05 2.27e+01 1.01e-02  -2.5 1.25e+01    -  1.00e+00 1.00e+00h  1\n",
      "  18  1.5825612e+05 8.70e+01 3.71e-02  -2.5 1.67e+01    -  1.00e+00 1.00e+00h  1\n",
      "  19  1.5083491e+05 1.17e+01 6.87e-03  -2.5 3.00e+00    -  1.00e+00 1.00e+00h  1\n",
      "iter    objective    inf_pr   inf_du lg(mu)  ||d||  lg(rg) alpha_du alpha_pr  ls\n",
      "  20  1.7151049e+05 1.48e+01 6.50e-02  -2.5 9.57e+00    -  1.00e+00 1.00e+00H  1\n",
      "  21  1.4670492e+05 2.66e+00 3.26e-03  -2.5 4.16e+01    -  1.00e+00 1.00e+00h  1\n",
      "  22  8.2765178e+04 2.33e+00 9.84e-02  -3.8 1.29e+02    -  1.00e+00 1.00e+00H  1\n",
      "  23  5.0165824e+04 9.18e+00 1.84e-02  -3.8 9.02e+01    -  1.00e+00 1.00e+00h  1\n",
      "  24  3.2440949e+04 1.77e+01 6.26e-03  -3.8 5.98e+01    -  1.00e+00 1.00e+00h  1\n",
      "  25  2.2706946e+04 3.57e+01 6.72e-03  -3.8 3.38e+01    -  1.00e+00 1.00e+00h  1\n",
      "  26  1.7668050e+04 1.41e+01 2.95e-03  -3.8 1.68e+01    -  1.00e+00 1.00e+00h  1\n",
      "  27  1.3437483e+04 1.88e+01 2.81e-03  -3.8 2.10e+01    -  1.00e+00 1.00e+00h  1\n",
      "  28  1.1328284e+04 7.24e+00 1.14e-03  -3.8 1.06e+01    -  1.00e+00 1.00e+00h  1\n",
      "  29  9.7518415e+03 8.25e+00 1.00e-03  -3.8 1.09e+01    -  1.00e+00 1.00e+00h  1\n",
      "iter    objective    inf_pr   inf_du lg(mu)  ||d||  lg(rg) alpha_du alpha_pr  ls\n",
      "  30  9.1587776e+03 3.60e+00 4.34e-04  -3.8 4.51e+00    -  1.00e+00 1.00e+00h  1\n",
      "  31  9.0818962e+03 8.94e+00 9.88e-04  -3.8 2.77e+00    -  1.00e+00 1.00e+00h  1\n",
      "  32  9.0146108e+03 1.83e+00 2.24e-04  -3.8 1.08e+00    -  1.00e+00 1.00e+00h  1\n",
      "  33  9.8933981e+03 1.01e+00 2.06e-03  -3.8 3.60e+00    -  1.00e+00 1.00e+00H  1\n",
      "  34  9.3262587e+03 2.89e-01 7.33e-05  -3.8 4.74e+00    -  1.00e+00 1.00e+00h  1\n",
      "  35  1.1548684e+04 4.02e-01 6.19e-03  -3.8 6.12e+00    -  1.00e+00 1.00e+00H  1\n",
      "  36  1.0212731e+04 3.70e-01 3.85e-04  -3.8 1.01e+01    -  1.00e+00 1.00e+00h  1\n",
      "  37  7.6601451e+03 5.07e+01 5.13e-03  -5.7 3.19e+01    -  1.00e+00 1.00e+00h  1\n",
      "  38  4.7037048e+03 9.00e+00 1.82e-03  -5.7 3.22e+00    -  1.00e+00 1.00e+00h  1\n",
      "  39  3.6993031e+03 5.28e+00 6.25e-04  -5.7 1.40e+01    -  1.00e+00 1.00e+00h  1\n",
      "iter    objective    inf_pr   inf_du lg(mu)  ||d||  lg(rg) alpha_du alpha_pr  ls\n",
      "  40  2.9874287e+03 7.90e+00 4.18e-04  -5.7 8.37e+00    -  1.00e+00 1.00e+00h  1\n",
      "  41  2.4834467e+03 6.98e+00 2.97e-04  -5.7 5.67e+00    -  1.00e+00 1.00e+00h  1\n",
      "  42  2.0782096e+03 6.77e+00 2.35e-04  -5.7 3.76e+00    -  1.00e+00 1.00e+00h  1\n",
      "  43  1.7378284e+03 6.20e+00 1.86e-04  -5.7 3.22e+00    -  1.00e+00 1.00e+00h  1\n",
      "  44  1.4479278e+03 5.91e+00 1.54e-04  -5.7 3.32e+00    -  1.00e+00 1.00e+00h  1\n",
      "  45  1.2016185e+03 5.29e+00 1.24e-04  -5.7 3.17e+00    -  1.00e+00 1.00e+00h  1\n",
      "  46  9.9435905e+02 4.97e+00 1.03e-04  -5.7 3.07e+00    -  1.00e+00 1.00e+00h  1\n",
      "  47  8.2072137e+02 4.34e+00 8.16e-05  -5.7 2.82e+00    -  1.00e+00 1.00e+00h  1\n",
      "  48  6.7732810e+02 4.05e+00 6.77e-05  -5.7 2.68e+00    -  1.00e+00 1.00e+00h  1\n",
      "  49  5.5884132e+02 3.45e+00 5.26e-05  -5.7 2.39e+00    -  1.00e+00 1.00e+00h  1\n",
      "iter    objective    inf_pr   inf_du lg(mu)  ||d||  lg(rg) alpha_du alpha_pr  ls\n",
      "  50  4.6290814e+02 3.20e+00 4.35e-05  -5.7 2.25e+00    -  1.00e+00 1.00e+00h  1\n",
      "  51  3.8455689e+02 2.62e+00 3.27e-05  -5.7 1.96e+00    -  1.00e+00 1.00e+00h  1\n",
      "  52  3.2254405e+02 2.43e+00 2.69e-05  -5.7 1.84e+00    -  1.00e+00 1.00e+00h  1\n",
      "  53  2.7237160e+02 1.88e+00 1.93e-05  -5.7 1.55e+00    -  1.00e+00 1.00e+00h  1\n",
      "  54  2.3377170e+02 1.74e+00 1.58e-05  -5.7 1.45e+00    -  1.00e+00 1.00e+00h  1\n",
      "  55  2.0282755e+02 1.21e+00 1.04e-05  -5.7 1.16e+00    -  1.00e+00 1.00e+00h  1\n",
      "  56  1.7989050e+02 1.10e+00 8.35e-06  -5.7 1.08e+00    -  1.00e+00 1.00e+00h  1\n",
      "  57  1.6195826e+02 6.40e-01 4.68e-06  -5.7 7.85e-01    -  1.00e+00 1.00e+00h  1\n",
      "  58  1.4941772e+02 5.20e-01 3.39e-06  -5.7 7.02e-01    -  1.00e+00 1.00e+00h  1\n",
      "  59  1.4071189e+02 2.07e-01 1.34e-06  -5.7 4.25e-01    -  1.00e+00 1.00e+00h  1\n",
      "iter    objective    inf_pr   inf_du lg(mu)  ||d||  lg(rg) alpha_du alpha_pr  ls\n",
      "  60  1.3578661e+02 9.45e-02 5.60e-07  -5.7 2.88e-01    -  1.00e+00 1.00e+00h  1\n",
      "  61  1.3390856e+02 1.07e-02 6.46e-08  -5.7 9.43e-02    -  1.00e+00 1.00e+00h  1\n",
      "  62  1.3362170e+02 2.93e-04 1.70e-09  -5.7 1.58e-02    -  1.00e+00 1.00e+00h  1\n",
      "  63  1.3361550e+02 1.15e-07 1.84e-11  -5.7 3.08e-04    -  1.00e+00 1.00e+00h  1\n",
      "  64  9.0923511e+01 7.81e-01 5.92e-05  -8.6 3.51e+00    -  1.00e+00 1.00e+00H  1\n",
      "  65  6.1633480e+01 1.92e-01 8.97e-06  -8.6 3.28e+00    -  1.00e+00 1.00e+00h  1\n",
      "  66  4.6654749e+01 6.22e-01 3.16e-06  -8.6 2.56e+00    -  1.00e+00 1.00e+00h  1\n",
      "  67  3.9776712e+01 7.11e-01 1.66e-06  -8.6 1.04e+00    -  1.00e+00 1.00e+00h  1\n",
      "  68  3.4695288e+01 5.75e-01 9.32e-07  -8.6 6.04e-01    -  1.00e+00 1.00e+00h  1\n",
      "  69  3.1302513e+01 4.27e-01 5.18e-07  -8.6 4.48e-01    -  1.00e+00 1.00e+00h  1\n",
      "iter    objective    inf_pr   inf_du lg(mu)  ||d||  lg(rg) alpha_du alpha_pr  ls\n",
      "  70  2.9054494e+01 2.78e-01 2.64e-07  -8.6 3.57e-01    -  1.00e+00 1.00e+00h  1\n",
      "  71  2.7661569e+01 1.51e-01 1.15e-07  -8.6 2.44e-01    -  1.00e+00 1.00e+00h  1\n",
      "  72  2.6843304e+01 5.67e-02 3.68e-08  -8.6 1.35e-01    -  1.00e+00 1.00e+00h  1\n",
      "  73  2.6480769e+01 9.63e-03 5.72e-09  -8.6 4.95e-02    -  1.00e+00 1.00e+00h  1\n",
      "  74  2.6411488e+01 2.85e-04 1.67e-10  -8.6 8.14e-03    -  1.00e+00 1.00e+00h  1\n",
      "  75  2.6409388e+01 2.42e-07 1.43e-13  -8.6 2.43e-04    -  1.00e+00 1.00e+00h  1\n",
      "  76  2.6409386e+01 1.79e-13 2.51e-14  -8.6 2.12e-07    -  1.00e+00 1.00e+00h  1\n",
      "  77  2.6404866e+01 1.32e-04 1.77e-09 -12.9 4.62e-02    -  1.00e+00 1.00e+00H  1\n",
      "  78  2.6403948e+01 4.97e-06 4.63e-12 -12.9 1.96e-03    -  1.00e+00 1.00e+00h  1\n",
      "\n",
      "Number of Iterations....: 78\n",
      "\n",
      "                                   (scaled)                 (unscaled)\n",
      "Objective...............:   2.6403948350105959e-07    2.6403948350105960e+01\n",
      "Dual infeasibility......:   4.6266696858993247e-12    4.6266696858993247e-04\n",
      "Constraint violation....:   3.7925663260926501e-09    4.9709925349361583e-06\n",
      "Complementarity.........:   1.7459891149021549e-13    1.7459891149021550e-05\n",
      "Overall NLP error.......:   3.7925663260926501e-09    4.6266696858993247e-04\n",
      "\n",
      "\n",
      "Number of objective function evaluations             = 86\n",
      "Number of objective gradient evaluations             = 79\n",
      "Number of equality constraint evaluations            = 86\n",
      "Number of inequality constraint evaluations          = 86\n",
      "Number of equality constraint Jacobian evaluations   = 79\n",
      "Number of inequality constraint Jacobian evaluations = 79\n",
      "Number of Lagrangian Hessian evaluations             = 78\n",
      "Total CPU secs in IPOPT (w/o function evaluations)   =      0.035\n",
      "Total CPU secs in NLP function evaluations           =      0.005\n",
      "\n",
      "EXIT: Optimal Solution Found.\n",
      "      solver  :   t_proc      (avg)   t_wall      (avg)    n_eval\n",
      "       nlp_f  | 606.00us (  7.05us) 614.06us (  7.14us)        86\n",
      "       nlp_g  | 700.00us (  8.14us) 666.27us (  7.75us)        86\n",
      "  nlp_grad_f  | 835.00us ( 10.44us) 829.55us ( 10.37us)        80\n",
      "  nlp_hess_l  |   1.90ms ( 24.31us)   1.91ms ( 24.47us)        78\n",
      "   nlp_jac_g  |   1.01ms ( 12.65us)   1.03ms ( 12.82us)        80\n",
      "       total  |  77.55ms ( 77.55ms)  71.84ms ( 71.84ms)         1\n"
     ]
    }
   ],
   "source": [
    "sol = opti.solve()"
   ]
  },
  {
   "cell_type": "code",
   "execution_count": 57,
   "metadata": {},
   "outputs": [
    {
     "data": {
      "text/plain": [
       "array([-2.70380008, -0.54298561,  0.26123341,  0.58403084])"
      ]
     },
     "execution_count": 57,
     "metadata": {},
     "output_type": "execute_result"
    }
   ],
   "source": [
    "sol.value(U)"
   ]
  },
  {
   "cell_type": "code",
   "execution_count": 58,
   "metadata": {},
   "outputs": [],
   "source": [
    "Usol_SS = sol.value(U) \n",
    "opti_SS = opti\n",
    "U_SS = U\n",
    "sol_SS = sol"
   ]
  },
  {
   "cell_type": "code",
   "execution_count": 59,
   "metadata": {},
   "outputs": [
    {
     "name": "stdout",
     "output_type": "stream",
     "text": [
      "MS Hessian\n",
      "MS jacobian\n"
     ]
    },
    {
     "data": {
      "text/plain": [
       "<matplotlib.image.AxesImage at 0x7f0b4e04b978>"
      ]
     },
     "execution_count": 59,
     "metadata": {},
     "output_type": "execute_result"
    },
    {
     "data": {
      "image/png": "[encoded data removed]",
      "text/plain": [
       "<Figure size 864x576 with 2 Axes>"
      ]
     },
     "metadata": {
      "needs_background": "light"
     },
     "output_type": "display_data"
    }
   ],
   "source": [
    "plt.figure(figsize=[12,8])\n",
    "print('MS Hessian')\n",
    "plt.subplot('221')\n",
    "plt.title('MS Hessian')\n",
    "plt.spy(hessian(opti_MS.f,opti_MS.x)[0].sparsity())\n",
    "# Only diagonal elements: no coupling between x or u,\n",
    "# on coupling between control intervals\n",
    " \n",
    "print('MS jacobian')\n",
    "plt.subplot('222')\n",
    "plt.title('MS jacobian')\n",
    "plt.spy(jacobian(opti_MS.g,opti_MS.x).sparsity())\n",
    " \n",
    "# Dynamic constraints: coupling between x_k+1 and x_k and u_k -> banded\n",
    "# Path constraints: only dependent on x-> diagonal\n"
   ]
  },
  {
   "cell_type": "code",
   "execution_count": 68,
   "metadata": {},
   "outputs": [
    {
     "name": "stdout",
     "output_type": "stream",
     "text": [
      "SS Hessian\n",
      "SS jacobian\n"
     ]
    },
    {
     "data": {
      "text/plain": [
       "<matplotlib.image.AxesImage at 0x7f0b4be3dba8>"
      ]
     },
     "execution_count": 68,
     "metadata": {},
     "output_type": "execute_result"
    },
    {
     "data": {
      "image/png": "[encoded data removed]",
      "text/plain": [
       "<Figure size 864x576 with 2 Axes>"
      ]
     },
     "metadata": {
      "needs_background": "light"
     },
     "output_type": "display_data"
    }
   ],
   "source": [
    "plt.figure(figsize=[12,8])\n",
    "print('SS Hessian')\n",
    "plt.subplot('223')\n",
    "plt.title('SS Hessian')\n",
    "#plt.spy(hessian(opti_SS.f,opti_SS.x)[0].sparsity())\n",
    "plt.spy(hessian(objective,U)[0].sparsity(),cmap = 'gray')\n",
    "#plt.colorbar()\n",
    " \n",
    "# Smaller than MS Hessian\n",
    "# Objective depends in a very nonlinear way on all u -> dense\n",
    " \n",
    "print('SS jacobian')\n",
    "plt.subplot('224')\n",
    "plt.title('SS jacobian')\n",
    "plt.spy(jacobian(opti_SS.g,opti_SS.x).sparsity())\n",
    " \n",
    " \n",
    "# x_k depends on all u_j with j<k -> triangular"
   ]
  },
  {
   "cell_type": "markdown",
   "metadata": {},
   "source": [
    "## Ejercicio 8 - Péndulo"
   ]
  },
  {
   "cell_type": "code",
   "execution_count": 2,
   "metadata": {},
   "outputs": [],
   "source": [
    " \n",
    "# Physical constants\n",
    "g = 9.81    # gravitation [m/s^2]\n",
    "L = 0.2     # pendulum length [m]\n",
    "m = 1       # pendulum mass [kg]\n",
    "mcart = 0.5 # cart mass [kg]\n",
    " \n",
    "T = 2.0 # control horizon [s]\n",
    "N = 160 # Number of control intervals\n",
    " \n",
    "dt = T/N # length of 1 control interval [s]\n",
    " \n",
    "# System is composed of 4 states\n",
    "nx = 4\n"
   ]
  },
  {
   "cell_type": "markdown",
   "metadata": {},
   "source": [
    "continuous system dot(x)=f(x,u)"
   ]
  },
  {
   "cell_type": "code",
   "execution_count": 3,
   "metadata": {},
   "outputs": [],
   "source": [
    "# Construct a CasADi function for the ODE right-hand side\n",
    "x = MX.sym('x',nx) # states: pos [m], theta [rad], dpos [m/s], dtheta [rad/s]\n",
    "u = MX.sym('u') # control force [N]\n",
    "ddpos = ((u+m*L*x[3]*x[3]*sin(x[1])-m*g*sin(x[1])*cos(x[1]))/(mcart+m-m*cos(x[1])*cos(x[1])))\n",
    "rhs = vertcat(x[2],x[3],ddpos,g/L*sin(x[1])-cos(x[1])*ddpos)\n",
    " \n",
    "# Continuous system dynamics as a CasADi Function\n",
    "f = Function('f', [x, u],[rhs])"
   ]
  },
  {
   "cell_type": "markdown",
   "metadata": {},
   "source": [
    "Discrete system x_next = F(x,u)"
   ]
  },
  {
   "cell_type": "code",
   "execution_count": 4,
   "metadata": {},
   "outputs": [],
   "source": [
    "# Integrator options\n",
    "intg_options = dict();\n",
    "intg_options[\"number_of_finite_elements\"] = 1;\n",
    "intg_options[\"tf\"] = dt/intg_options[\"number_of_finite_elements\"]\n",
    " \n",
    "# Reference Runge-Kutta implementation\n",
    "intg = integrator('intg','rk',{'x':x,'p':u,'ode':f(x,u)},intg_options)\n",
    "res = intg(x0=x,p=u)\n",
    " \n",
    "# Discretized (sampling time dt) system dynamics as a CasADi Function\n",
    "F = Function('F', [x, u], [res[\"xf\"]])"
   ]
  },
  {
   "cell_type": "markdown",
   "metadata": {},
   "source": [
    "Optimal control problem, multiple shooting"
   ]
  },
  {
   "cell_type": "code",
   "execution_count": 5,
   "metadata": {},
   "outputs": [
    {
     "name": "stdout",
     "output_type": "stream",
     "text": [
      "\n",
      "******************************************************************************\n",
      "This program contains Ipopt, a library for large-scale nonlinear optimization.\n",
      " Ipopt is released as open source code under the Eclipse Public License (EPL).\n",
      "         For more information visit http://projects.coin-or.org/Ipopt\n",
      "******************************************************************************\n",
      "\n",
      "This is Ipopt version 3.12.3, running with linear solver mumps.\n",
      "NOTE: Other linear solvers might be more efficient (see Ipopt documentation).\n",
      "\n",
      "Number of nonzeros in equality constraint Jacobian...:     3048\n",
      "Number of nonzeros in inequality constraint Jacobian.:      321\n",
      "Number of nonzeros in Lagrangian Hessian.............:      960\n",
      "\n",
      "Total number of variables............................:      804\n",
      "                     variables with only lower bounds:        0\n",
      "                variables with lower and upper bounds:        0\n",
      "                     variables with only upper bounds:        0\n",
      "Total number of equality constraints.................:      648\n",
      "Total number of inequality constraints...............:      321\n",
      "        inequality constraints with only lower bounds:        0\n",
      "   inequality constraints with lower and upper bounds:      321\n",
      "        inequality constraints with only upper bounds:        0\n",
      "\n",
      "iter    objective    inf_pr   inf_du lg(mu)  ||d||  lg(rg) alpha_du alpha_pr  ls\n",
      "   0  0.0000000e+00 1.00e+00 0.00e+00  -1.0 0.00e+00    -  0.00e+00 0.00e+00   0\n",
      "   1  6.9558430e+01 2.79e-01 7.93e-01  -1.0 1.65e+00    -  4.32e-01 7.21e-01h  1\n",
      "   2  1.1896518e+02 6.06e-02 1.17e-01  -1.0 4.27e-01    -  9.33e-01 7.83e-01h  1\n",
      "   3  1.3627244e+02 8.85e-07 1.38e-03  -1.7 1.40e-01    -  1.00e+00 1.00e+00h  1\n",
      "   4  1.3571014e+02 9.09e-08 4.38e-02  -2.5 5.44e-02    -  9.36e-01 1.00e+00f  1\n",
      "   5  1.3546206e+02 2.84e-08 1.46e-04  -2.5 2.94e-02    -  1.00e+00 1.00e+00f  1\n",
      "   6  1.3531355e+02 9.56e-09 3.61e-03  -3.8 1.62e-02    -  9.60e-01 1.00e+00f  1\n",
      "   7  1.3528680e+02 5.99e-10 7.54e-06  -3.8 8.73e-03    -  1.00e+00 1.00e+00f  1\n",
      "   8  1.3527675e+02 2.05e-10 1.10e-04  -5.7 5.81e-03    -  9.93e-01 1.00e+00f  1\n",
      "   9  1.3527625e+02 3.58e-11 1.06e-07  -5.7 2.78e-03    -  1.00e+00 1.00e+00f  1\n",
      "iter    objective    inf_pr   inf_du lg(mu)  ||d||  lg(rg) alpha_du alpha_pr  ls\n",
      "  10  1.3527611e+02 2.73e-12 9.30e-08  -8.6 8.65e-04    -  1.00e+00 1.00e+00f  1\n",
      "  11  1.3527611e+02 2.49e-14 3.13e-11  -8.6 8.71e-05    -  1.00e+00 1.00e+00h  1\n",
      "  12  1.3527611e+02 2.22e-16 9.66e-13  -9.0 9.62e-07    -  1.00e+00 1.00e+00h  1\n",
      "\n",
      "Number of Iterations....: 12\n",
      "\n",
      "                                   (scaled)                 (unscaled)\n",
      "Objective...............:   1.3527610574433862e+02    1.3527610574433862e+02\n",
      "Dual infeasibility......:   9.6633812063373625e-13    9.6633812063373625e-13\n",
      "Constraint violation....:   2.2204460492503131e-16    2.2204460492503131e-16\n",
      "Complementarity.........:   9.1107572160366734e-10    9.1107572160366734e-10\n",
      "Overall NLP error.......:   9.1107572160366734e-10    9.1107572160366734e-10\n",
      "\n",
      "\n",
      "Number of objective function evaluations             = 13\n",
      "Number of objective gradient evaluations             = 13\n",
      "Number of equality constraint evaluations            = 13\n",
      "Number of inequality constraint evaluations          = 13\n",
      "Number of equality constraint Jacobian evaluations   = 13\n",
      "Number of inequality constraint Jacobian evaluations = 13\n",
      "Number of Lagrangian Hessian evaluations             = 12\n",
      "Total CPU secs in IPOPT (w/o function evaluations)   =      0.092\n",
      "Total CPU secs in NLP function evaluations           =      0.572\n",
      "\n",
      "EXIT: Optimal Solution Found.\n",
      "      solver  :   t_proc      (avg)   t_wall      (avg)    n_eval\n",
      "       nlp_f  |  61.00us (  4.69us)  60.53us (  4.66us)        13\n",
      "       nlp_g  |  25.57ms (  1.97ms)  25.41ms (  1.95ms)        13\n",
      "  nlp_grad_f  | 132.00us (  9.43us) 127.52us (  9.11us)        14\n",
      "  nlp_hess_l  | 386.64ms ( 32.22ms) 385.83ms ( 32.15ms)        12\n",
      "   nlp_jac_g  | 178.43ms ( 12.74ms) 178.05ms ( 12.72ms)        14\n",
      "       total  | 672.45ms (672.45ms) 668.67ms (668.67ms)         1\n"
     ]
    }
   ],
   "source": [
    "opti = casadi.Opti()\n",
    " \n",
    "# Decision variables for states\n",
    "X = opti.variable(nx,N+1)\n",
    "# Aliases for states\n",
    "pos    = X[0,:]\n",
    "theta  = X[1,:]\n",
    "dpos   = X[2,:]\n",
    "dtheta = X[3,:]\n",
    " \n",
    "# Decision variables for control vector\n",
    "U =  opti.variable(N,1) # force [N]\n",
    " \n",
    "# Gap-closing shooting constraints\n",
    "for k in range(N):\n",
    "    opti.subject_to(X[:,k+1]==F(X[:,k],U[k]))\n",
    " \n",
    " \n",
    "# Path constraints\n",
    "opti.subject_to(opti.bounded(-3,  pos, 3)) # Syntax -3 <= pos <= 3 not supported in Python\n",
    "opti.subject_to(opti.bounded(-1.2, U, 1.2))\n",
    " \n",
    "# Initial and terminal constraints\n",
    "opti.subject_to(X[:,0]==vertcat(1,0,0,0))\n",
    "opti.subject_to(X[:,-1]==vertcat(0,0,0,0))\n",
    " \n",
    "# Objective: regularization of controls\n",
    "opti.minimize(sumsqr(U))\n",
    " \n",
    "# solve optimization problem\n",
    "opti.solver('ipopt')\n",
    " \n",
    "sol = opti.solve()"
   ]
  },
  {
   "cell_type": "markdown",
   "metadata": {},
   "source": [
    "Post-processing: plotting"
   ]
  },
  {
   "cell_type": "code",
   "execution_count": 9,
   "metadata": {},
   "outputs": [
    {
     "data": {
      "image/png": "[encoded data removed]",
      "text/plain": [
       "<Figure size 432x288 with 3 Axes>"
      ]
     },
     "metadata": {
      "needs_background": "light"
     },
     "output_type": "display_data"
    },
    {
     "data": {
      "image/png": "[encoded data removed]",
      "text/plain": [
       "<Figure size 432x288 with 1 Axes>"
      ]
     },
     "metadata": {
      "needs_background": "light"
     },
     "output_type": "display_data"
    }
   ],
   "source": [
    "pos_opt = sol.value(pos)\n",
    "theta_opt = sol.value(theta)\n",
    "dpos_opt = sol.value(dpos)\n",
    "dtheta_opt = sol.value(dtheta)\n",
    " \n",
    "u_opt = sol.value(U)\n",
    " \n",
    "# time grid for printing\n",
    "tgrid = np.linspace(0,T, N+1)\n",
    " \n",
    "plt.figure()\n",
    "plt.subplot(3,1,1)\n",
    "plt.plot(tgrid, theta_opt, 'b')\n",
    "plt.plot(tgrid, pos_opt, 'b')\n",
    "plt.legend(('theta [rad]','pos [m]'))\n",
    "plt.xlabel('Time [s]')\n",
    "plt.subplot(3,1,2)\n",
    "plt.plot(tgrid, dtheta_opt, 'b')\n",
    "plt.plot(tgrid, dpos_opt, 'b')\n",
    "plt.legend(('dtheta [rad/s]','dpos [m/s]'))\n",
    "plt.xlabel('Time [s]')\n",
    "plt.subplot(3,1,3)\n",
    "plt.step(tgrid[:-1], u_opt, 'b')\n",
    "plt.legend('u [m/s^2]')\n",
    "plt.xlabel('Time [s]')\n",
    " \n",
    "cart = vertcat(pos,0*pos)\n",
    "ee   = vertcat(pos+L*sin(theta),L*cos(theta))\n",
    " \n",
    "cart_sol = sol.value(cart)\n",
    "ee_sol   = sol.value(ee)\n",
    " \n",
    "plt.figure()\n",
    "for k in range(0,N+1,8):\n",
    "    plt.plot([cart_sol[0,k],ee_sol[0,k]],[cart_sol[1,k],ee_sol[1,k]],'k',linewidth=1)\n",
    "\n",
    "plt.axis('equal')\n",
    "plt.show()"
   ]
  },
  {
   "cell_type": "code",
   "execution_count": null,
   "metadata": {},
   "outputs": [],
   "source": []
  }
 ],
 "metadata": {
  "kernelspec": {
   "display_name": "Python 3",
   "language": "python",
   "name": "python3"
  },
  "language_info": {
   "codemirror_mode": {
    "name": "ipython",
    "version": 3
   },
   "file_extension": ".py",
   "mimetype": "text/x-python",
   "name": "python",
   "nbconvert_exporter": "python",
   "pygments_lexer": "ipython3",
   "version": "3.7.3"
  }
 },
 "nbformat": 4,
 "nbformat_minor": 2
}
